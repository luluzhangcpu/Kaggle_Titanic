{
 "cells": [
  {
   "cell_type": "code",
   "execution_count": 1,
   "id": "70714192",
   "metadata": {
    "_cell_guid": "b1076dfc-b9ad-4769-8c92-a6c4dae69d19",
    "_uuid": "8f2839f25d086af736a60e9eeb907d3b93b6e0e5",
    "execution": {
     "iopub.execute_input": "2024-09-20T05:43:06.062190Z",
     "iopub.status.busy": "2024-09-20T05:43:06.061102Z",
     "iopub.status.idle": "2024-09-20T05:43:09.567189Z",
     "shell.execute_reply": "2024-09-20T05:43:09.565698Z"
    },
    "papermill": {
     "duration": 3.519601,
     "end_time": "2024-09-20T05:43:09.569923",
     "exception": false,
     "start_time": "2024-09-20T05:43:06.050322",
     "status": "completed"
    },
    "tags": []
   },
   "outputs": [],
   "source": [
    "import pandas as pd\n",
    "from sklearn.feature_extraction import DictVectorizer\n",
    "from sklearn.tree import DecisionTreeClassifier\n",
    "import numpy as np\n",
    "import warnings\n",
    "warnings.filterwarnings(\"ignore\")#忽略警告\n",
    "from sklearn.model_selection import cross_val_score\n",
    "from sklearn.metrics import accuracy_score\n",
    "from sklearn.preprocessing import StandardScaler\n",
    "from sklearn.svm import SVC\n",
    "from sklearn.naive_bayes import GaussianNB\n",
    "from sklearn.naive_bayes import BernoulliNB\n",
    "from sklearn.neighbors import KNeighborsClassifier\n",
    "from sklearn.ensemble import AdaBoostClassifier\n",
    "from sklearn.ensemble import GradientBoostingClassifier\n",
    "from sklearn.ensemble import BaggingClassifier\n",
    "from sklearn.ensemble import RandomForestClassifier\n",
    "from sklearn.model_selection import GridSearchCV\n",
    "from sklearn.pipeline import Pipeline\n",
    "from xgboost import XGBClassifier"
   ]
  },
  {
   "cell_type": "code",
   "execution_count": 2,
   "id": "d88b82c8",
   "metadata": {
    "execution": {
     "iopub.execute_input": "2024-09-20T05:43:09.589198Z",
     "iopub.status.busy": "2024-09-20T05:43:09.588598Z",
     "iopub.status.idle": "2024-09-20T05:43:09.622790Z",
     "shell.execute_reply": "2024-09-20T05:43:09.621404Z"
    },
    "papermill": {
     "duration": 0.04726,
     "end_time": "2024-09-20T05:43:09.625826",
     "exception": false,
     "start_time": "2024-09-20T05:43:09.578566",
     "status": "completed"
    },
    "tags": []
   },
   "outputs": [],
   "source": [
    "# 读取数据\n",
    "df1_train = pd.read_csv('/kaggle/input/titanic/train.csv')\n",
    "df1_test = pd.read_csv('/kaggle/input/titanic/test.csv')"
   ]
  },
  {
   "cell_type": "code",
   "execution_count": 3,
   "id": "faaf0a3f",
   "metadata": {
    "execution": {
     "iopub.execute_input": "2024-09-20T05:43:09.645127Z",
     "iopub.status.busy": "2024-09-20T05:43:09.644673Z",
     "iopub.status.idle": "2024-09-20T05:43:09.650550Z",
     "shell.execute_reply": "2024-09-20T05:43:09.649057Z"
    },
    "papermill": {
     "duration": 0.018493,
     "end_time": "2024-09-20T05:43:09.653255",
     "exception": false,
     "start_time": "2024-09-20T05:43:09.634762",
     "status": "completed"
    },
    "tags": []
   },
   "outputs": [],
   "source": [
    "# 第一模块：数据探索\n",
    "# 特征说明\n",
    "# PassengerId：乘客ID\n",
    "# Pclass：客舱等级(1/2/3等舱位)\n",
    "# Name：乘客姓名\n",
    "# Sex：性别\n",
    "# Age：年龄\n",
    "# SibSp：同乘的兄弟姐妹/配偶数\n",
    "# Parch：同乘的父母数/子女数\n",
    "# Ticket：船票编号\n",
    "# Fare：船票价格\n",
    "# Cabin：客舱号\n",
    "# Embarked：登船港口\n",
    "# Survived：存活情况（存活：1 ; 死亡：0）"
   ]
  },
  {
   "cell_type": "code",
   "execution_count": 4,
   "id": "8d71548c",
   "metadata": {
    "execution": {
     "iopub.execute_input": "2024-09-20T05:43:09.673214Z",
     "iopub.status.busy": "2024-09-20T05:43:09.672810Z",
     "iopub.status.idle": "2024-09-20T05:43:09.717395Z",
     "shell.execute_reply": "2024-09-20T05:43:09.716062Z"
    },
    "papermill": {
     "duration": 0.059053,
     "end_time": "2024-09-20T05:43:09.721383",
     "exception": false,
     "start_time": "2024-09-20T05:43:09.662330",
     "status": "completed"
    },
    "tags": []
   },
   "outputs": [
    {
     "name": "stdout",
     "output_type": "stream",
     "text": [
      "<class 'pandas.core.frame.DataFrame'>\n",
      "RangeIndex: 891 entries, 0 to 890\n",
      "Data columns (total 12 columns):\n",
      " #   Column       Non-Null Count  Dtype  \n",
      "---  ------       --------------  -----  \n",
      " 0   PassengerId  891 non-null    int64  \n",
      " 1   Survived     891 non-null    int64  \n",
      " 2   Pclass       891 non-null    int64  \n",
      " 3   Name         891 non-null    object \n",
      " 4   Sex          891 non-null    object \n",
      " 5   Age          714 non-null    float64\n",
      " 6   SibSp        891 non-null    int64  \n",
      " 7   Parch        891 non-null    int64  \n",
      " 8   Ticket       891 non-null    object \n",
      " 9   Fare         891 non-null    float64\n",
      " 10  Cabin        204 non-null    object \n",
      " 11  Embarked     889 non-null    object \n",
      "dtypes: float64(2), int64(5), object(5)\n",
      "memory usage: 83.7+ KB\n",
      "None\n",
      "------------------------------\n",
      "<class 'pandas.core.frame.DataFrame'>\n",
      "RangeIndex: 418 entries, 0 to 417\n",
      "Data columns (total 11 columns):\n",
      " #   Column       Non-Null Count  Dtype  \n",
      "---  ------       --------------  -----  \n",
      " 0   PassengerId  418 non-null    int64  \n",
      " 1   Pclass       418 non-null    int64  \n",
      " 2   Name         418 non-null    object \n",
      " 3   Sex          418 non-null    object \n",
      " 4   Age          332 non-null    float64\n",
      " 5   SibSp        418 non-null    int64  \n",
      " 6   Parch        418 non-null    int64  \n",
      " 7   Ticket       418 non-null    object \n",
      " 8   Fare         417 non-null    float64\n",
      " 9   Cabin        91 non-null     object \n",
      " 10  Embarked     418 non-null    object \n",
      "dtypes: float64(2), int64(4), object(5)\n",
      "memory usage: 36.0+ KB\n",
      "None\n"
     ]
    }
   ],
   "source": [
    "# 查看表的基本情况；\n",
    "print(df1_train.info())\n",
    "print('-'*30)\n",
    "print(df1_test.info())"
   ]
  },
  {
   "cell_type": "code",
   "execution_count": 5,
   "id": "5f021468",
   "metadata": {
    "execution": {
     "iopub.execute_input": "2024-09-20T05:43:09.741561Z",
     "iopub.status.busy": "2024-09-20T05:43:09.741146Z",
     "iopub.status.idle": "2024-09-20T05:43:09.774583Z",
     "shell.execute_reply": "2024-09-20T05:43:09.773001Z"
    },
    "papermill": {
     "duration": 0.046802,
     "end_time": "2024-09-20T05:43:09.777307",
     "exception": false,
     "start_time": "2024-09-20T05:43:09.730505",
     "status": "completed"
    },
    "tags": []
   },
   "outputs": [
    {
     "name": "stdout",
     "output_type": "stream",
     "text": [
      "       PassengerId    Survived      Pclass         Age       SibSp  \\\n",
      "count   891.000000  891.000000  891.000000  714.000000  891.000000   \n",
      "mean    446.000000    0.383838    2.308642   29.699118    0.523008   \n",
      "std     257.353842    0.486592    0.836071   14.526497    1.102743   \n",
      "min       1.000000    0.000000    1.000000    0.420000    0.000000   \n",
      "25%     223.500000    0.000000    2.000000   20.125000    0.000000   \n",
      "50%     446.000000    0.000000    3.000000   28.000000    0.000000   \n",
      "75%     668.500000    1.000000    3.000000   38.000000    1.000000   \n",
      "max     891.000000    1.000000    3.000000   80.000000    8.000000   \n",
      "\n",
      "            Parch        Fare  \n",
      "count  891.000000  891.000000  \n",
      "mean     0.381594   32.204208  \n",
      "std      0.806057   49.693429  \n",
      "min      0.000000    0.000000  \n",
      "25%      0.000000    7.910400  \n",
      "50%      0.000000   14.454200  \n",
      "75%      0.000000   31.000000  \n",
      "max      6.000000  512.329200  \n",
      "------------------------------\n"
     ]
    }
   ],
   "source": [
    "# 对于数值型数据，查看其基本情况（样本量、均值、最大最小值等）\n",
    "print(df1_train.describe())\n",
    "print('-'*30)"
   ]
  },
  {
   "cell_type": "code",
   "execution_count": 6,
   "id": "0c75a465",
   "metadata": {
    "execution": {
     "iopub.execute_input": "2024-09-20T05:43:09.798540Z",
     "iopub.status.busy": "2024-09-20T05:43:09.798146Z",
     "iopub.status.idle": "2024-09-20T05:43:09.818087Z",
     "shell.execute_reply": "2024-09-20T05:43:09.816338Z"
    },
    "papermill": {
     "duration": 0.033093,
     "end_time": "2024-09-20T05:43:09.820897",
     "exception": false,
     "start_time": "2024-09-20T05:43:09.787804",
     "status": "completed"
    },
    "tags": []
   },
   "outputs": [
    {
     "name": "stdout",
     "output_type": "stream",
     "text": [
      "                           Name   Sex  Ticket    Cabin Embarked\n",
      "count                       891   891     891      204      889\n",
      "unique                      891     2     681      147        3\n",
      "top     Braund, Mr. Owen Harris  male  347082  B96 B98        S\n",
      "freq                          1   577       7        4      644\n",
      "------------------------------\n"
     ]
    }
   ],
   "source": [
    "# 对于字符串数据，查看其基本情况（样本量、非重复计数、频数最高者等）\n",
    "print(df1_train.describe(include=['O']))\n",
    "print('-'*30)"
   ]
  },
  {
   "cell_type": "code",
   "execution_count": 7,
   "id": "8c1a98ad",
   "metadata": {
    "execution": {
     "iopub.execute_input": "2024-09-20T05:43:09.841074Z",
     "iopub.status.busy": "2024-09-20T05:43:09.840654Z",
     "iopub.status.idle": "2024-09-20T05:43:09.852355Z",
     "shell.execute_reply": "2024-09-20T05:43:09.850772Z"
    },
    "papermill": {
     "duration": 0.025221,
     "end_time": "2024-09-20T05:43:09.855312",
     "exception": false,
     "start_time": "2024-09-20T05:43:09.830091",
     "status": "completed"
    },
    "tags": []
   },
   "outputs": [],
   "source": [
    "# 第二模块：数据清洗\n",
    "# 由于本项目样本量不大，且较为标准，无需作过多清洗；\n",
    "# 即，重点将缺失值补齐即可；\n",
    "# 对于数值型字段，用其均值补充缺失值\n",
    "df1_train.fillna({'Age':df1_train['Age'].mean()},inplace=True)\n",
    "df1_test.fillna({'Age':df1_train['Age'].mean(),'Fare':df1_train['Fare'].mean()},inplace=True)"
   ]
  },
  {
   "cell_type": "code",
   "execution_count": 8,
   "id": "9ab17ad1",
   "metadata": {
    "execution": {
     "iopub.execute_input": "2024-09-20T05:43:09.878901Z",
     "iopub.status.busy": "2024-09-20T05:43:09.877709Z",
     "iopub.status.idle": "2024-09-20T05:43:09.899883Z",
     "shell.execute_reply": "2024-09-20T05:43:09.898176Z"
    },
    "papermill": {
     "duration": 0.035898,
     "end_time": "2024-09-20T05:43:09.902866",
     "exception": false,
     "start_time": "2024-09-20T05:43:09.866968",
     "status": "completed"
    },
    "tags": []
   },
   "outputs": [
    {
     "name": "stdout",
     "output_type": "stream",
     "text": [
      "<class 'pandas.core.frame.DataFrame'>\n",
      "RangeIndex: 891 entries, 0 to 890\n",
      "Data columns (total 12 columns):\n",
      " #   Column       Non-Null Count  Dtype  \n",
      "---  ------       --------------  -----  \n",
      " 0   PassengerId  891 non-null    int64  \n",
      " 1   Survived     891 non-null    int64  \n",
      " 2   Pclass       891 non-null    int64  \n",
      " 3   Name         891 non-null    object \n",
      " 4   Sex          891 non-null    object \n",
      " 5   Age          891 non-null    float64\n",
      " 6   SibSp        891 non-null    int64  \n",
      " 7   Parch        891 non-null    int64  \n",
      " 8   Ticket       891 non-null    object \n",
      " 9   Fare         891 non-null    float64\n",
      " 10  Cabin        204 non-null    object \n",
      " 11  Embarked     889 non-null    object \n",
      "dtypes: float64(2), int64(5), object(5)\n",
      "memory usage: 83.7+ KB\n",
      "None\n",
      "<class 'pandas.core.frame.DataFrame'>\n",
      "RangeIndex: 418 entries, 0 to 417\n",
      "Data columns (total 11 columns):\n",
      " #   Column       Non-Null Count  Dtype  \n",
      "---  ------       --------------  -----  \n",
      " 0   PassengerId  418 non-null    int64  \n",
      " 1   Pclass       418 non-null    int64  \n",
      " 2   Name         418 non-null    object \n",
      " 3   Sex          418 non-null    object \n",
      " 4   Age          418 non-null    float64\n",
      " 5   SibSp        418 non-null    int64  \n",
      " 6   Parch        418 non-null    int64  \n",
      " 7   Ticket       418 non-null    object \n",
      " 8   Fare         418 non-null    float64\n",
      " 9   Cabin        91 non-null     object \n",
      " 10  Embarked     418 non-null    object \n",
      "dtypes: float64(2), int64(4), object(5)\n",
      "memory usage: 36.0+ KB\n",
      "None\n",
      "------------------------------\n"
     ]
    }
   ],
   "source": [
    "# 查看存在缺失值的字符串字段\n",
    "print(df1_train.info())\n",
    "print(df1_test.info())\n",
    "print('-'*30)"
   ]
  },
  {
   "cell_type": "code",
   "execution_count": 9,
   "id": "b8033b61",
   "metadata": {
    "execution": {
     "iopub.execute_input": "2024-09-20T05:43:09.924500Z",
     "iopub.status.busy": "2024-09-20T05:43:09.924100Z",
     "iopub.status.idle": "2024-09-20T05:43:09.934356Z",
     "shell.execute_reply": "2024-09-20T05:43:09.933150Z"
    },
    "papermill": {
     "duration": 0.024591,
     "end_time": "2024-09-20T05:43:09.937671",
     "exception": false,
     "start_time": "2024-09-20T05:43:09.913080",
     "status": "completed"
    },
    "tags": []
   },
   "outputs": [
    {
     "name": "stdout",
     "output_type": "stream",
     "text": [
      "Embarked\n",
      "S    644\n",
      "C    168\n",
      "Q     77\n",
      "Name: count, dtype: int64\n"
     ]
    }
   ],
   "source": [
    "# 从以上数据概览，可知 train表存在缺失值的特征为 Embarked、Cabin；\n",
    "# test表中为 Cabin；\n",
    "# 且，由于特征 Cabin 在两张表里，均存在较多的缺失值；\n",
    "# 无法找到合理的方法，大量补全该特征，即，进行模型模拟时，该特征将被剔除；\n",
    "# 对 train表存在缺失值的特征 Embarked，\n",
    "# 按频次降序排列，用频次最高者对其缺失值进行补充；\n",
    "print(df1_train['Embarked'].value_counts())\n",
    "df1_train.fillna({'Embarked':'S'},inplace=True)"
   ]
  },
  {
   "cell_type": "code",
   "execution_count": 10,
   "id": "bc214b44",
   "metadata": {
    "execution": {
     "iopub.execute_input": "2024-09-20T05:43:09.958818Z",
     "iopub.status.busy": "2024-09-20T05:43:09.958404Z",
     "iopub.status.idle": "2024-09-20T05:43:09.971590Z",
     "shell.execute_reply": "2024-09-20T05:43:09.970171Z"
    },
    "papermill": {
     "duration": 0.026784,
     "end_time": "2024-09-20T05:43:09.974239",
     "exception": false,
     "start_time": "2024-09-20T05:43:09.947455",
     "status": "completed"
    },
    "tags": []
   },
   "outputs": [],
   "source": [
    "# 第三模块：模型的 特征选择\n",
    "# 对于该案例，选择 Pclass、Sex、Age、SibSp、Parch、Ticket、Fare、Embarked 作为特征;\n",
    "# Survived 作为标签\n",
    "features = ['Pclass','Sex','Age','SibSp','Parch','Fare','Embarked']\n",
    "train_features = df1_train[features]\n",
    "train_labels = df1_train['Survived']\n",
    "test_features = df1_test[features]"
   ]
  },
  {
   "cell_type": "code",
   "execution_count": 11,
   "id": "7417d5c6",
   "metadata": {
    "execution": {
     "iopub.execute_input": "2024-09-20T05:43:09.995881Z",
     "iopub.status.busy": "2024-09-20T05:43:09.995446Z",
     "iopub.status.idle": "2024-09-20T05:43:10.035561Z",
     "shell.execute_reply": "2024-09-20T05:43:10.033974Z"
    },
    "papermill": {
     "duration": 0.054441,
     "end_time": "2024-09-20T05:43:10.038864",
     "exception": false,
     "start_time": "2024-09-20T05:43:09.984423",
     "status": "completed"
    },
    "tags": []
   },
   "outputs": [],
   "source": [
    "# 将所有字符串数据，变为 数值型\n",
    "# 将字符串字段 处理成 数值型，使用 Sklearn 特征选择里的 DictVectorizer,并转换成 特征值矩阵\n",
    "# 即，Embarked单独的一列，拆开变成 'Embarked = S'、'Embarked = C'、'Embarked = Q' 3列的值，这3列分别为 0/1\n",
    "# 而，Sex 这一单独列，拆开变成 'Sex = female'、'Sex = male' 2列的值，也均为 0/1 的值\n",
    "# 所以，原来 train_features 仅有 7列，这样，即 扩展为 10列,891行\n",
    "dvec = DictVectorizer(sparse=False)\n",
    "train_features = dvec.fit_transform(train_features.to_dict(orient='records'))\n",
    "test_features = dvec.transform(test_features.to_dict(orient='records'))\n",
    "# 数据规范化：Z-Score 规范化，使得每个特征数据符合，均值为0，方差为1 分布\n",
    "ss = StandardScaler()\n",
    "train_features = ss.fit_transform(train_features)\n",
    "test_features = ss.transform(test_features)"
   ]
  },
  {
   "cell_type": "code",
   "execution_count": 12,
   "id": "985b6280",
   "metadata": {
    "execution": {
     "iopub.execute_input": "2024-09-20T05:43:10.060826Z",
     "iopub.status.busy": "2024-09-20T05:43:10.060378Z",
     "iopub.status.idle": "2024-09-20T05:43:10.090499Z",
     "shell.execute_reply": "2024-09-20T05:43:10.088749Z"
    },
    "papermill": {
     "duration": 0.044665,
     "end_time": "2024-09-20T05:43:10.093693",
     "exception": false,
     "start_time": "2024-09-20T05:43:10.049028",
     "status": "completed"
    },
    "tags": []
   },
   "outputs": [
    {
     "name": "stdout",
     "output_type": "stream",
     "text": [
      "高斯朴素贝叶斯分类器中 5折交叉验证准确率为 0.7890276818780995\n"
     ]
    }
   ],
   "source": [
    "# 第四模块：构造各分类器，并探索合适的参数\n",
    "# 一、对于贝叶斯分类器，直接使用即可；\n",
    "# 1、高斯贝叶斯分类器\n",
    "# 模型评估\n",
    "Gnb = GaussianNB()\n",
    "Gnb.fit(train_features,train_labels)\n",
    "print('高斯朴素贝叶斯分类器中 5折交叉验证准确率为 %.16f' % np.mean(cross_val_score(Gnb,train_features,train_labels,cv=5)))"
   ]
  },
  {
   "cell_type": "code",
   "execution_count": 13,
   "id": "8a25cc50",
   "metadata": {
    "execution": {
     "iopub.execute_input": "2024-09-20T05:43:10.119397Z",
     "iopub.status.busy": "2024-09-20T05:43:10.118983Z",
     "iopub.status.idle": "2024-09-20T05:43:10.126807Z",
     "shell.execute_reply": "2024-09-20T05:43:10.125504Z"
    },
    "papermill": {
     "duration": 0.024757,
     "end_time": "2024-09-20T05:43:10.129824",
     "exception": false,
     "start_time": "2024-09-20T05:43:10.105067",
     "status": "completed"
    },
    "tags": []
   },
   "outputs": [],
   "source": [
    "# 结果预测，kaggle上得分为，0.75358\n",
    "test_pre_Gnb = Gnb.predict(test_features)\n",
    "df1_test['predict_model_Gnb'] = test_pre_Gnb"
   ]
  },
  {
   "cell_type": "code",
   "execution_count": 14,
   "id": "845a1cc4",
   "metadata": {
    "execution": {
     "iopub.execute_input": "2024-09-20T05:43:10.153500Z",
     "iopub.status.busy": "2024-09-20T05:43:10.153080Z",
     "iopub.status.idle": "2024-09-20T05:43:10.191053Z",
     "shell.execute_reply": "2024-09-20T05:43:10.189603Z"
    },
    "papermill": {
     "duration": 0.053402,
     "end_time": "2024-09-20T05:43:10.194337",
     "exception": false,
     "start_time": "2024-09-20T05:43:10.140935",
     "status": "completed"
    },
    "tags": []
   },
   "outputs": [
    {
     "name": "stdout",
     "output_type": "stream",
     "text": [
      "伯努利贝叶斯分类器中 5折交叉验证准确率为 0.7800326407632917\n"
     ]
    }
   ],
   "source": [
    "# 2、伯努利贝叶斯分类器\n",
    "# 模型评估\n",
    "Blb = BernoulliNB()\n",
    "Blb.fit(train_features,train_labels)\n",
    "print('伯努利贝叶斯分类器中 5折交叉验证准确率为 %.16f' % np.mean(cross_val_score(Blb,train_features,train_labels,cv=5)))"
   ]
  },
  {
   "cell_type": "code",
   "execution_count": 15,
   "id": "e1f23717",
   "metadata": {
    "execution": {
     "iopub.execute_input": "2024-09-20T05:43:10.216368Z",
     "iopub.status.busy": "2024-09-20T05:43:10.215808Z",
     "iopub.status.idle": "2024-09-20T05:43:10.224167Z",
     "shell.execute_reply": "2024-09-20T05:43:10.222734Z"
    },
    "papermill": {
     "duration": 0.022792,
     "end_time": "2024-09-20T05:43:10.227061",
     "exception": false,
     "start_time": "2024-09-20T05:43:10.204269",
     "status": "completed"
    },
    "tags": []
   },
   "outputs": [],
   "source": [
    "# 结果预测，kaggle上得分为，0.75837\n",
    "test_pre_Blb = Blb.predict(test_features)\n",
    "df1_test['predict_model_Blb'] = test_pre_Blb"
   ]
  },
  {
   "cell_type": "code",
   "execution_count": 16,
   "id": "b7a01904",
   "metadata": {
    "execution": {
     "iopub.execute_input": "2024-09-20T05:43:10.248987Z",
     "iopub.status.busy": "2024-09-20T05:43:10.248556Z",
     "iopub.status.idle": "2024-09-20T05:43:10.255567Z",
     "shell.execute_reply": "2024-09-20T05:43:10.254126Z"
    },
    "papermill": {
     "duration": 0.02177,
     "end_time": "2024-09-20T05:43:10.258894",
     "exception": false,
     "start_time": "2024-09-20T05:43:10.237124",
     "status": "completed"
    },
    "tags": []
   },
   "outputs": [],
   "source": [
    "# 二、对于不需要复杂调参的一般模型，直接一起用 GridSearchCV 调参，Pipeline流程化；\n",
    "# 即，对决策树（criterion = 'entropy'/'gini'）、SVM分类器、Knn进行下述操作；\n",
    "\n",
    "# 1）建立各分类器：\n",
    "list_classifiers = [\n",
    "    DecisionTreeClassifier(random_state=10,criterion='entropy'),\n",
    "    DecisionTreeClassifier(random_state=10,criterion='gini'),\n",
    "    SVC(random_state=10),\n",
    "    KNeighborsClassifier(),\n",
    "]"
   ]
  },
  {
   "cell_type": "code",
   "execution_count": 17,
   "id": "c547fa27",
   "metadata": {
    "execution": {
     "iopub.execute_input": "2024-09-20T05:43:10.281594Z",
     "iopub.status.busy": "2024-09-20T05:43:10.281167Z",
     "iopub.status.idle": "2024-09-20T05:43:10.286832Z",
     "shell.execute_reply": "2024-09-20T05:43:10.285630Z"
    },
    "papermill": {
     "duration": 0.020281,
     "end_time": "2024-09-20T05:43:10.289466",
     "exception": false,
     "start_time": "2024-09-20T05:43:10.269185",
     "status": "completed"
    },
    "tags": []
   },
   "outputs": [],
   "source": [
    "# 2）对各分类器命名\n",
    "list_classifier_names = [\n",
    "    'ID3',\n",
    "    'CART',\n",
    "    'svc',\n",
    "    'knn',\n",
    "]"
   ]
  },
  {
   "cell_type": "code",
   "execution_count": 18,
   "id": "56f8e2d2",
   "metadata": {
    "execution": {
     "iopub.execute_input": "2024-09-20T05:43:10.311717Z",
     "iopub.status.busy": "2024-09-20T05:43:10.311320Z",
     "iopub.status.idle": "2024-09-20T05:43:10.318656Z",
     "shell.execute_reply": "2024-09-20T05:43:10.317461Z"
    },
    "papermill": {
     "duration": 0.021607,
     "end_time": "2024-09-20T05:43:10.321215",
     "exception": false,
     "start_time": "2024-09-20T05:43:10.299608",
     "status": "completed"
    },
    "tags": []
   },
   "outputs": [],
   "source": [
    "# 3）对各分类器建立拟模拟参数\n",
    "list_classifier_param_grid = [\n",
    "    {'ID3__max_depth':range(3,11)},\n",
    "    {'CART__max_depth': range(3,11)},\n",
    "    {'svc__gamma':[0.001,0.01,0.02,0.03,0.05,0.1,0.15,0.2,0.3,1,10,100]},\n",
    "    {'knn__n_neighbors':[4,6,8,10,15,20,25,30]},\n",
    "]"
   ]
  },
  {
   "cell_type": "code",
   "execution_count": 19,
   "id": "a9e9bd30",
   "metadata": {
    "execution": {
     "iopub.execute_input": "2024-09-20T05:43:10.343108Z",
     "iopub.status.busy": "2024-09-20T05:43:10.342677Z",
     "iopub.status.idle": "2024-09-20T05:43:10.350450Z",
     "shell.execute_reply": "2024-09-20T05:43:10.349023Z"
    },
    "papermill": {
     "duration": 0.021973,
     "end_time": "2024-09-20T05:43:10.353154",
     "exception": false,
     "start_time": "2024-09-20T05:43:10.331181",
     "status": "completed"
    },
    "tags": []
   },
   "outputs": [],
   "source": [
    "# 4）对各分类器用网格搜索 GridSearchCV 调参\n",
    "def GridSearchCV_Process(ppl,train_features,train_labels,test_features,param_grid,classifier_name,df1_test):\n",
    "    model1 = GridSearchCV(estimator=ppl,param_grid=param_grid,cv=5) # scoring未指定，默认使用estimator的评估方法，即 accuracy\n",
    "    # 用网格搜索，寻找最优参数、最佳准确率\n",
    "    search1 = model1.fit(train_features,train_labels)\n",
    "    print('%s 模型如下：' % classifier_name)\n",
    "    print('model1 最优参数：',search1.best_params_)\n",
    "    print('model1 最优得分_5折交叉准确率为：',search1.best_score_)\n",
    "    test_predict = search1.predict(test_features)\n",
    "    model_name = ''.join(['predict_model_',classifier_name])\n",
    "    df1_test[model_name] = test_predict"
   ]
  },
  {
   "cell_type": "code",
   "execution_count": 20,
   "id": "acf756ff",
   "metadata": {
    "execution": {
     "iopub.execute_input": "2024-09-20T05:43:10.375888Z",
     "iopub.status.busy": "2024-09-20T05:43:10.374471Z",
     "iopub.status.idle": "2024-09-20T05:43:12.975410Z",
     "shell.execute_reply": "2024-09-20T05:43:12.973845Z"
    },
    "papermill": {
     "duration": 2.614947,
     "end_time": "2024-09-20T05:43:12.978105",
     "exception": false,
     "start_time": "2024-09-20T05:43:10.363158",
     "status": "completed"
    },
    "tags": []
   },
   "outputs": [
    {
     "name": "stdout",
     "output_type": "stream",
     "text": [
      "ID3 模型如下：\n",
      "model1 最优参数： {'ID3__max_depth': 8}\n",
      "model1 最优得分_5折交叉准确率为： 0.8148389931579938\n",
      "CART 模型如下：\n",
      "model1 最优参数： {'CART__max_depth': 6}\n",
      "model1 最优得分_5折交叉准确率为： 0.813709120582512\n",
      "svc 模型如下：\n",
      "model1 最优参数： {'svc__gamma': 0.1}\n",
      "model1 最优得分_5折交叉准确率为： 0.8249074132195091\n",
      "knn 模型如下：\n",
      "model1 最优参数： {'knn__n_neighbors': 20}\n",
      "model1 最优得分_5折交叉准确率为： 0.8159249262444291\n"
     ]
    }
   ],
   "source": [
    "# 5）各分类器结果预测\n",
    "for classifier,classifier_name,classifier_param_grid in zip(list_classifiers,list_classifier_names,list_classifier_param_grid):\n",
    "    ppl = Pipeline([\n",
    "        (classifier_name,classifier)\n",
    "    ])\n",
    "    GridSearchCV_Process(ppl,train_features,train_labels,test_features,classifier_param_grid,classifier_name,df1_test)"
   ]
  },
  {
   "cell_type": "code",
   "execution_count": 21,
   "id": "b62ff873",
   "metadata": {
    "execution": {
     "iopub.execute_input": "2024-09-20T05:43:13.000774Z",
     "iopub.status.busy": "2024-09-20T05:43:13.000342Z",
     "iopub.status.idle": "2024-09-20T05:43:13.006031Z",
     "shell.execute_reply": "2024-09-20T05:43:13.004227Z"
    },
    "papermill": {
     "duration": 0.020232,
     "end_time": "2024-09-20T05:43:13.008767",
     "exception": false,
     "start_time": "2024-09-20T05:43:12.988535",
     "status": "completed"
    },
    "tags": []
   },
   "outputs": [],
   "source": [
    "# 6）各模型结果显示如下\n",
    "# ID3模型\n",
    "# kaggle上得分，0.76076"
   ]
  },
  {
   "cell_type": "code",
   "execution_count": 22,
   "id": "cbaacbec",
   "metadata": {
    "execution": {
     "iopub.execute_input": "2024-09-20T05:43:13.032529Z",
     "iopub.status.busy": "2024-09-20T05:43:13.032071Z",
     "iopub.status.idle": "2024-09-20T05:43:13.037203Z",
     "shell.execute_reply": "2024-09-20T05:43:13.035916Z"
    },
    "papermill": {
     "duration": 0.019979,
     "end_time": "2024-09-20T05:43:13.039804",
     "exception": false,
     "start_time": "2024-09-20T05:43:13.019825",
     "status": "completed"
    },
    "tags": []
   },
   "outputs": [],
   "source": [
    "# CART模型\n",
    "# kaggle上得分，0.76794"
   ]
  },
  {
   "cell_type": "code",
   "execution_count": 23,
   "id": "e4af6858",
   "metadata": {
    "execution": {
     "iopub.execute_input": "2024-09-20T05:43:13.062807Z",
     "iopub.status.busy": "2024-09-20T05:43:13.062343Z",
     "iopub.status.idle": "2024-09-20T05:43:13.067771Z",
     "shell.execute_reply": "2024-09-20T05:43:13.066590Z"
    },
    "papermill": {
     "duration": 0.019968,
     "end_time": "2024-09-20T05:43:13.070356",
     "exception": false,
     "start_time": "2024-09-20T05:43:13.050388",
     "status": "completed"
    },
    "tags": []
   },
   "outputs": [],
   "source": [
    "# svc模型\n",
    "# kaggle上得分，0.77990"
   ]
  },
  {
   "cell_type": "code",
   "execution_count": 24,
   "id": "af0c4b27",
   "metadata": {
    "execution": {
     "iopub.execute_input": "2024-09-20T05:43:13.093796Z",
     "iopub.status.busy": "2024-09-20T05:43:13.093086Z",
     "iopub.status.idle": "2024-09-20T05:43:13.098839Z",
     "shell.execute_reply": "2024-09-20T05:43:13.097497Z"
    },
    "papermill": {
     "duration": 0.020808,
     "end_time": "2024-09-20T05:43:13.101752",
     "exception": false,
     "start_time": "2024-09-20T05:43:13.080944",
     "status": "completed"
    },
    "tags": []
   },
   "outputs": [],
   "source": [
    "# knn模型\n",
    "# kaggle上得分，0.77272"
   ]
  },
  {
   "cell_type": "code",
   "execution_count": 25,
   "id": "43a7a6ad",
   "metadata": {
    "execution": {
     "iopub.execute_input": "2024-09-20T05:43:13.130353Z",
     "iopub.status.busy": "2024-09-20T05:43:13.129878Z",
     "iopub.status.idle": "2024-09-20T05:43:13.135671Z",
     "shell.execute_reply": "2024-09-20T05:43:13.134210Z"
    },
    "papermill": {
     "duration": 0.022337,
     "end_time": "2024-09-20T05:43:13.138673",
     "exception": false,
     "start_time": "2024-09-20T05:43:13.116336",
     "status": "completed"
    },
    "tags": []
   },
   "outputs": [],
   "source": [
    "# 三、需特别调参的分类器\n",
    "# 1、Adaboost分类器\n",
    "# 用网格搜索调参，构建模型；\n",
    "# scoring = 默认，也即，scoring = 'accuracy'\n",
    "# param1 = {'n_estimators':range(500,1001,100)}\n",
    "# model1 = GridSearchCV(estimator=AdaBoostClassifier(random_state=10),\\\n",
    "#                       param_grid=param1,cv=5) # 5折交叉验证\n",
    "# model1.fit(train_features,train_labels)\n",
    "# print(model1.best_score_) # 得分为：0.8126169104262131\n",
    "# print(model1.best_params_) # {'n_estimators':600}"
   ]
  },
  {
   "cell_type": "code",
   "execution_count": 26,
   "id": "3b8eb815",
   "metadata": {
    "execution": {
     "iopub.execute_input": "2024-09-20T05:43:13.162087Z",
     "iopub.status.busy": "2024-09-20T05:43:13.161695Z",
     "iopub.status.idle": "2024-09-20T05:43:13.167589Z",
     "shell.execute_reply": "2024-09-20T05:43:13.166257Z"
    },
    "papermill": {
     "duration": 0.021239,
     "end_time": "2024-09-20T05:43:13.170731",
     "exception": false,
     "start_time": "2024-09-20T05:43:13.149492",
     "status": "completed"
    },
    "tags": []
   },
   "outputs": [],
   "source": [
    "# param2 = {'learning_rate':[0.00001,0.00005,0.0001,0.0005,0.001,0.005,0.01,0.05,0.1,0.5,1,3,5,10]}\n",
    "# model2 = GridSearchCV(estimator=AdaBoostClassifier(random_state=10,n_estimators=600),\\\n",
    "#                       param_grid=param2,cv=5) # 5折交叉验证\n",
    "# model2.fit(train_features,train_labels)\n",
    "# print(model2.best_score_) # 得分为：0.8126169104262131\n",
    "# print(model2.best_params_) # {'learning_rate':1}"
   ]
  },
  {
   "cell_type": "code",
   "execution_count": 27,
   "id": "f88ce3d9",
   "metadata": {
    "execution": {
     "iopub.execute_input": "2024-09-20T05:43:13.195042Z",
     "iopub.status.busy": "2024-09-20T05:43:13.194608Z",
     "iopub.status.idle": "2024-09-20T05:43:14.721857Z",
     "shell.execute_reply": "2024-09-20T05:43:14.720550Z"
    },
    "papermill": {
     "duration": 1.543045,
     "end_time": "2024-09-20T05:43:14.724669",
     "exception": false,
     "start_time": "2024-09-20T05:43:13.181624",
     "status": "completed"
    },
    "tags": []
   },
   "outputs": [],
   "source": [
    "# 结果预测，kaggle上得分，0.75837\n",
    "model3 = AdaBoostClassifier(n_estimators=600,random_state=10,learning_rate=1)\n",
    "model3.fit(train_features,train_labels)\n",
    "test_pre_AdaBoost = model3.predict(test_features)\n",
    "df1_test['predict_model_AdaBoost'] = test_pre_AdaBoost"
   ]
  },
  {
   "cell_type": "code",
   "execution_count": 28,
   "id": "00482fce",
   "metadata": {
    "execution": {
     "iopub.execute_input": "2024-09-20T05:43:14.749657Z",
     "iopub.status.busy": "2024-09-20T05:43:14.749229Z",
     "iopub.status.idle": "2024-09-20T05:43:14.754756Z",
     "shell.execute_reply": "2024-09-20T05:43:14.753319Z"
    },
    "papermill": {
     "duration": 0.021348,
     "end_time": "2024-09-20T05:43:14.757666",
     "exception": false,
     "start_time": "2024-09-20T05:43:14.736318",
     "status": "completed"
    },
    "tags": []
   },
   "outputs": [],
   "source": [
    "# 2、GradientBoostingClassifie（梯度提升分类器）\n",
    "# 用网格搜索调参，构建模型；\n",
    "# param1 = {'n_estimators':range(500,1001,100)}\n",
    "# model1 = GridSearchCV(estimator=GradientBoostingClassifier(learning_rate=0.1,random_state=10),param_grid=param1,cv=5)\n",
    "# model1.fit(train_features,train_labels)\n",
    "# print(model1.best_score_) # 得分为：0.8271797125102003\n",
    "# print(model1.best_params_) # {'n_estimators':500}"
   ]
  },
  {
   "cell_type": "code",
   "execution_count": 29,
   "id": "4f865866",
   "metadata": {
    "execution": {
     "iopub.execute_input": "2024-09-20T05:43:14.781839Z",
     "iopub.status.busy": "2024-09-20T05:43:14.781436Z",
     "iopub.status.idle": "2024-09-20T05:43:14.786472Z",
     "shell.execute_reply": "2024-09-20T05:43:14.785245Z"
    },
    "papermill": {
     "duration": 0.019568,
     "end_time": "2024-09-20T05:43:14.788757",
     "exception": false,
     "start_time": "2024-09-20T05:43:14.769189",
     "status": "completed"
    },
    "tags": []
   },
   "outputs": [],
   "source": [
    "# param2 = {'max_depth':range(3,11),'min_samples_split':range(10,21,2)}\n",
    "# model2 = GridSearchCV(estimator=GradientBoostingClassifier(random_state=10,learning_rate=0.1,n_estimators=500),param_grid=param2)\n",
    "# model2.fit(train_features,train_labels)\n",
    "# print(model2.best_score_) # 得分为：0.8305379448873266\n",
    "# print(model2.best_params_) # {'max_depth':3, 'min_samples_split':14}"
   ]
  },
  {
   "cell_type": "code",
   "execution_count": 30,
   "id": "a894b705",
   "metadata": {
    "execution": {
     "iopub.execute_input": "2024-09-20T05:43:14.812427Z",
     "iopub.status.busy": "2024-09-20T05:43:14.812043Z",
     "iopub.status.idle": "2024-09-20T05:43:15.498380Z",
     "shell.execute_reply": "2024-09-20T05:43:15.497227Z"
    },
    "papermill": {
     "duration": 0.701295,
     "end_time": "2024-09-20T05:43:15.501080",
     "exception": false,
     "start_time": "2024-09-20T05:43:14.799785",
     "status": "completed"
    },
    "tags": []
   },
   "outputs": [],
   "source": [
    "# 结果预测，kaggle上得分，0.75837\n",
    "model3 = GradientBoostingClassifier(n_estimators=500,random_state=10,learning_rate=0.1,max_depth=3,min_samples_split=14)\n",
    "model3.fit(train_features,train_labels)\n",
    "test_pre_GBDT = model3.predict(test_features)\n",
    "df1_test['predict_model_GBDT'] = test_pre_GBDT"
   ]
  },
  {
   "cell_type": "code",
   "execution_count": 31,
   "id": "50a6fe8a",
   "metadata": {
    "execution": {
     "iopub.execute_input": "2024-09-20T05:43:15.524606Z",
     "iopub.status.busy": "2024-09-20T05:43:15.524230Z",
     "iopub.status.idle": "2024-09-20T05:43:15.530077Z",
     "shell.execute_reply": "2024-09-20T05:43:15.528732Z"
    },
    "papermill": {
     "duration": 0.020748,
     "end_time": "2024-09-20T05:43:15.532823",
     "exception": false,
     "start_time": "2024-09-20T05:43:15.512075",
     "status": "completed"
    },
    "tags": []
   },
   "outputs": [],
   "source": [
    "# 3、RandomForestClassifier_gini（随机森林分类器）\n",
    "# 用网格搜索调参，构建模型；\n",
    "# 指定划分子树的评估标准，criterion = 'gini'，默认值，计算基尼系数；\n",
    "# param1 = {'n_estimators':range(500,1001,100)}\n",
    "# model1 = GridSearchCV(estimator=RandomForestClassifier(random_state=10,oob_score=True),\\\n",
    "#                       param_grid=param1,cv=5)\n",
    "# model1.fit(train_features,train_labels)\n",
    "# print(model1.best_score_) # 得分为：0.8137153976523759\n",
    "# print(model1.best_params_) # {'n_estimators':500}"
   ]
  },
  {
   "cell_type": "code",
   "execution_count": 32,
   "id": "27d03a1a",
   "metadata": {
    "execution": {
     "iopub.execute_input": "2024-09-20T05:43:15.556568Z",
     "iopub.status.busy": "2024-09-20T05:43:15.556170Z",
     "iopub.status.idle": "2024-09-20T05:43:15.561577Z",
     "shell.execute_reply": "2024-09-20T05:43:15.560280Z"
    },
    "papermill": {
     "duration": 0.020302,
     "end_time": "2024-09-20T05:43:15.564109",
     "exception": false,
     "start_time": "2024-09-20T05:43:15.543807",
     "status": "completed"
    },
    "tags": []
   },
   "outputs": [],
   "source": [
    "# param2 = {'max_depth':range(3,11),'min_samples_split':range(10,21,2)}\n",
    "# model2 = GridSearchCV(estimator=RandomForestClassifier(random_state=10,n_estimators=500,oob_score=True),param_grid=param2,cv=5)\n",
    "# model2.fit(train_features,train_labels)\n",
    "# print(model2.best_score_) # 得分为：0.8305504990270542\n",
    "# print(model2.best_params_) # {'max_depth':10, 'min_samples_split':10}"
   ]
  },
  {
   "cell_type": "code",
   "execution_count": 33,
   "id": "12433dca",
   "metadata": {
    "execution": {
     "iopub.execute_input": "2024-09-20T05:43:15.587732Z",
     "iopub.status.busy": "2024-09-20T05:43:15.587290Z",
     "iopub.status.idle": "2024-09-20T05:43:16.988683Z",
     "shell.execute_reply": "2024-09-20T05:43:16.987492Z"
    },
    "papermill": {
     "duration": 1.416988,
     "end_time": "2024-09-20T05:43:16.991859",
     "exception": false,
     "start_time": "2024-09-20T05:43:15.574871",
     "status": "completed"
    },
    "tags": []
   },
   "outputs": [],
   "source": [
    "# 结果预测，kaggle上得分，0.78468\n",
    "model3 = RandomForestClassifier(random_state=10,n_estimators=500,oob_score=True,min_samples_split=10,max_depth=10)\n",
    "model3.fit(train_features,train_labels)\n",
    "test_pre_RF_gini = model3.predict(test_features)\n",
    "df1_test['predict_model_RF_gini'] = test_pre_RF_gini"
   ]
  },
  {
   "cell_type": "code",
   "execution_count": 34,
   "id": "51e8d8df",
   "metadata": {
    "execution": {
     "iopub.execute_input": "2024-09-20T05:43:17.016186Z",
     "iopub.status.busy": "2024-09-20T05:43:17.015763Z",
     "iopub.status.idle": "2024-09-20T05:43:17.021287Z",
     "shell.execute_reply": "2024-09-20T05:43:17.019888Z"
    },
    "papermill": {
     "duration": 0.021033,
     "end_time": "2024-09-20T05:43:17.024059",
     "exception": false,
     "start_time": "2024-09-20T05:43:17.003026",
     "status": "completed"
    },
    "tags": []
   },
   "outputs": [],
   "source": [
    "# 4、RandomForestClassifier_entropy（随机森林分类器）\n",
    "# 用网格搜索调参，构建模型；\n",
    "# 指定划分子树的评估标准，criterion = 'entropy’，使用基于信息熵的方法；\n",
    "# param1 = {'n_estimators':range(500,1001,100)}\n",
    "# model1 = GridSearchCV(estimator=RandomForestClassifier(random_state=10,criterion='entropy'),param_grid=param1,cv=5)\n",
    "# model1.fit(train_features,train_labels)\n",
    "# print(model1.best_score_) # 得分为：0.815956311593748\n",
    "# print(model1.best_params_) # {'n_estimators':700}"
   ]
  },
  {
   "cell_type": "code",
   "execution_count": 35,
   "id": "0eaadfaf",
   "metadata": {
    "execution": {
     "iopub.execute_input": "2024-09-20T05:43:17.111356Z",
     "iopub.status.busy": "2024-09-20T05:43:17.110947Z",
     "iopub.status.idle": "2024-09-20T05:43:17.116389Z",
     "shell.execute_reply": "2024-09-20T05:43:17.114798Z"
    },
    "papermill": {
     "duration": 0.021253,
     "end_time": "2024-09-20T05:43:17.119093",
     "exception": false,
     "start_time": "2024-09-20T05:43:17.097840",
     "status": "completed"
    },
    "tags": []
   },
   "outputs": [],
   "source": [
    "# param2 = {'max_depth':range(3,11),'min_samples_split':range(10,21,2)}\n",
    "# model2 = GridSearchCV(estimator=RandomForestClassifier(random_state=10,criterion='entropy',n_estimators=700,oob_score=True),param_grid=param2,cv=5)\n",
    "# model2.fit(train_features,train_labels)\n",
    "# print(model2.best_score_) # 得分为：0.8271922666499278\n",
    "# print(model2.best_params_) # {'max_depth': 9, 'min_samples_split': 12}"
   ]
  },
  {
   "cell_type": "code",
   "execution_count": 36,
   "id": "40779985",
   "metadata": {
    "execution": {
     "iopub.execute_input": "2024-09-20T05:43:17.142973Z",
     "iopub.status.busy": "2024-09-20T05:43:17.142560Z",
     "iopub.status.idle": "2024-09-20T05:43:18.797073Z",
     "shell.execute_reply": "2024-09-20T05:43:18.795717Z"
    },
    "papermill": {
     "duration": 1.669747,
     "end_time": "2024-09-20T05:43:18.799930",
     "exception": false,
     "start_time": "2024-09-20T05:43:17.130183",
     "status": "completed"
    },
    "tags": []
   },
   "outputs": [],
   "source": [
    "# 结果预测，kaggle上得分，0.77511\n",
    "model3 = RandomForestClassifier(n_estimators=700,random_state=10,criterion='entropy',max_depth=9, min_samples_split=12)\n",
    "model3.fit(train_features,train_labels)\n",
    "test_pre_RF_entropy = model3.predict(test_features)\n",
    "df1_test['predict_model_RF_entropy'] = test_pre_RF_entropy"
   ]
  },
  {
   "cell_type": "code",
   "execution_count": 37,
   "id": "adfbbfe7",
   "metadata": {
    "execution": {
     "iopub.execute_input": "2024-09-20T05:43:18.824471Z",
     "iopub.status.busy": "2024-09-20T05:43:18.823729Z",
     "iopub.status.idle": "2024-09-20T05:43:18.829377Z",
     "shell.execute_reply": "2024-09-20T05:43:18.827963Z"
    },
    "papermill": {
     "duration": 0.020906,
     "end_time": "2024-09-20T05:43:18.832045",
     "exception": false,
     "start_time": "2024-09-20T05:43:18.811139",
     "status": "completed"
    },
    "tags": []
   },
   "outputs": [],
   "source": [
    "# 4、BaggingClassifier\n",
    "# 用网格搜索调参，构建模型；\n",
    "# scoring = 默认，也即，scoring = 'accuracy'\n",
    "# param1 = {'n_estimators':range(10,501,10)}\n",
    "# model1 = GridSearchCV(estimator=BaggingClassifier(random_state=10),\\\n",
    "#                       param_grid=param1,cv=5)\n",
    "# model1.fit(train_features,train_labels)\n",
    "# print(model1.best_score_) # 0.8182097796748478\n",
    "# print(model1.best_params_) # {'n_estimators': 320}"
   ]
  },
  {
   "cell_type": "code",
   "execution_count": 38,
   "id": "8da7f340",
   "metadata": {
    "execution": {
     "iopub.execute_input": "2024-09-20T05:43:18.857738Z",
     "iopub.status.busy": "2024-09-20T05:43:18.856629Z",
     "iopub.status.idle": "2024-09-20T05:43:18.862450Z",
     "shell.execute_reply": "2024-09-20T05:43:18.861188Z"
    },
    "papermill": {
     "duration": 0.022129,
     "end_time": "2024-09-20T05:43:18.865519",
     "exception": false,
     "start_time": "2024-09-20T05:43:18.843390",
     "status": "completed"
    },
    "tags": []
   },
   "outputs": [],
   "source": [
    "# param2 = {'max_samples':[0.5,0.8,1],'max_features':[0.5,1]}\n",
    "# model2 = GridSearchCV(estimator=BaggingClassifier(random_state=10,n_estimators=320),\\\n",
    "#                       param_grid=param2,cv=5)\n",
    "# model2.fit(train_features,train_labels)\n",
    "# print(model2.best_score_) # 0.8249576297784194\n",
    "# print(model2.best_params_) # {'max_features': 0.5, 'max_samples': 0.8}"
   ]
  },
  {
   "cell_type": "code",
   "execution_count": 39,
   "id": "c6800cfb",
   "metadata": {
    "execution": {
     "iopub.execute_input": "2024-09-20T05:43:18.890765Z",
     "iopub.status.busy": "2024-09-20T05:43:18.890333Z",
     "iopub.status.idle": "2024-09-20T05:43:19.848205Z",
     "shell.execute_reply": "2024-09-20T05:43:19.846871Z"
    },
    "papermill": {
     "duration": 0.973558,
     "end_time": "2024-09-20T05:43:19.851030",
     "exception": false,
     "start_time": "2024-09-20T05:43:18.877472",
     "status": "completed"
    },
    "tags": []
   },
   "outputs": [],
   "source": [
    "# 结果预测，kaggle上得分，0.78229\n",
    "model3 = BaggingClassifier(n_estimators=320,random_state=10,max_features=0.5, max_samples=0.8)\n",
    "model3.fit(train_features,train_labels)\n",
    "test_pre_Bagging = model3.predict(test_features)\n",
    "df1_test['predict_model_Bagging'] = test_pre_Bagging"
   ]
  },
  {
   "cell_type": "code",
   "execution_count": 40,
   "id": "4284dce8",
   "metadata": {
    "execution": {
     "iopub.execute_input": "2024-09-20T05:43:19.877305Z",
     "iopub.status.busy": "2024-09-20T05:43:19.876887Z",
     "iopub.status.idle": "2024-09-20T05:43:19.882572Z",
     "shell.execute_reply": "2024-09-20T05:43:19.881252Z"
    },
    "papermill": {
     "duration": 0.022356,
     "end_time": "2024-09-20T05:43:19.885559",
     "exception": false,
     "start_time": "2024-09-20T05:43:19.863203",
     "status": "completed"
    },
    "tags": []
   },
   "outputs": [],
   "source": [
    "# 5、XGBoost分类器\n",
    "# 用网格搜索调参，构建模型；\n",
    "# scoring = 默认，也即，scoring = 'accuracy'\n",
    "# param1 = {'scale_pos_weight':[1,2,3],'min_child_weight':[1,2,3],'max_delta_step':[1,2,3]}\n",
    "# model1 = GridSearchCV(estimator=XGBClassifier(random_state=10),\\\n",
    "#                       param_grid=param1,cv=5)\n",
    "# model1.fit(train_features,train_labels)\n",
    "# print(model1.best_score_) # 得分为：0.8260561170045821\n",
    "# print(model1.best_params_) # {'max_delta_step': 1, 'min_child_weight': 3, 'scale_pos_weight': 1}"
   ]
  },
  {
   "cell_type": "code",
   "execution_count": 41,
   "id": "33c2e502",
   "metadata": {
    "execution": {
     "iopub.execute_input": "2024-09-20T05:43:19.913318Z",
     "iopub.status.busy": "2024-09-20T05:43:19.912916Z",
     "iopub.status.idle": "2024-09-20T05:43:19.918510Z",
     "shell.execute_reply": "2024-09-20T05:43:19.916973Z"
    },
    "papermill": {
     "duration": 0.023958,
     "end_time": "2024-09-20T05:43:19.921246",
     "exception": false,
     "start_time": "2024-09-20T05:43:19.897288",
     "status": "completed"
    },
    "tags": []
   },
   "outputs": [],
   "source": [
    "# param2 = {'learning_rate':[0.00001,0.00005,0.0001,0.0005,0.001,0.005,0.01,0.05,0.1,0.5,1,3,5,10]}\n",
    "# model2 = GridSearchCV(estimator=XGBClassifier(random_state=10,scale_pos_weight=1,min_child_weight=3,max_delta_step=1),\\\n",
    "#                       param_grid=param2,cv=5)\n",
    "# model2.fit(train_features,train_labels)\n",
    "# print(model2.best_score_) # 得分为：0.8372857949908983\n",
    "# print(model2.best_params_) # {'learning_rate':0.1}"
   ]
  },
  {
   "cell_type": "code",
   "execution_count": 42,
   "id": "cfd2acc9",
   "metadata": {
    "execution": {
     "iopub.execute_input": "2024-09-20T05:43:19.946199Z",
     "iopub.status.busy": "2024-09-20T05:43:19.945773Z",
     "iopub.status.idle": "2024-09-20T05:43:19.951551Z",
     "shell.execute_reply": "2024-09-20T05:43:19.949952Z"
    },
    "papermill": {
     "duration": 0.021612,
     "end_time": "2024-09-20T05:43:19.954420",
     "exception": false,
     "start_time": "2024-09-20T05:43:19.932808",
     "status": "completed"
    },
    "tags": []
   },
   "outputs": [],
   "source": [
    "# param3 = {'n_estimators':range(1,1002,50)}\n",
    "# model3 = GridSearchCV(estimator=XGBClassifier(random_state=10,scale_pos_weight=1,min_child_weight=3,max_delta_step=1,learning_rate=0.1),param_grid=param3,cv=5)\n",
    "# model3.fit(train_features,train_labels)\n",
    "# print(model3.best_score_) # 得分为：0.8372857949908983\n",
    "# print(model3.best_params_) # {'n_estimators':101}"
   ]
  },
  {
   "cell_type": "code",
   "execution_count": 43,
   "id": "d9775bfe",
   "metadata": {
    "execution": {
     "iopub.execute_input": "2024-09-20T05:43:19.979474Z",
     "iopub.status.busy": "2024-09-20T05:43:19.979040Z",
     "iopub.status.idle": "2024-09-20T05:43:19.984775Z",
     "shell.execute_reply": "2024-09-20T05:43:19.983536Z"
    },
    "papermill": {
     "duration": 0.021086,
     "end_time": "2024-09-20T05:43:19.987217",
     "exception": false,
     "start_time": "2024-09-20T05:43:19.966131",
     "status": "completed"
    },
    "tags": []
   },
   "outputs": [],
   "source": [
    "# param4 = {'max_depth':range(3,11)}\n",
    "# model4 = GridSearchCV(estimator=XGBClassifier(random_state=10,scale_pos_weight=1,min_child_weight=3,max_delta_step=1,learning_rate=0.1,n_estimators=101),param_grid=param4,cv=5)\n",
    "# model4.fit(train_features,train_labels)\n",
    "# print(model4.best_score_) # 得分为：0.8395267089322704\n",
    "# print(model4.best_params_) # {'max_depth':7}"
   ]
  },
  {
   "cell_type": "code",
   "execution_count": 44,
   "id": "2689bd17",
   "metadata": {
    "execution": {
     "iopub.execute_input": "2024-09-20T05:43:20.012344Z",
     "iopub.status.busy": "2024-09-20T05:43:20.011539Z",
     "iopub.status.idle": "2024-09-20T05:43:20.144316Z",
     "shell.execute_reply": "2024-09-20T05:43:20.143378Z"
    },
    "papermill": {
     "duration": 0.148386,
     "end_time": "2024-09-20T05:43:20.147209",
     "exception": false,
     "start_time": "2024-09-20T05:43:19.998823",
     "status": "completed"
    },
    "tags": []
   },
   "outputs": [],
   "source": [
    "# 结果预测，kaggle上得分，0.76315\n",
    "model5 = XGBClassifier(random_state=10,scale_pos_weight=1,min_child_weight=3,max_delta_step=1,\\\n",
    "                       learning_rate=0.1,n_estimators=101,max_depth=7)\n",
    "model5.fit(train_features,train_labels)\n",
    "test_pre_xgb = model5.predict(test_features)\n",
    "df1_test['predict_model_XGBClassifier'] = test_pre_xgb"
   ]
  },
  {
   "cell_type": "code",
   "execution_count": 45,
   "id": "aad91288",
   "metadata": {
    "execution": {
     "iopub.execute_input": "2024-09-20T05:43:20.174799Z",
     "iopub.status.busy": "2024-09-20T05:43:20.174363Z",
     "iopub.status.idle": "2024-09-20T05:43:20.190572Z",
     "shell.execute_reply": "2024-09-20T05:43:20.188874Z"
    },
    "papermill": {
     "duration": 0.032507,
     "end_time": "2024-09-20T05:43:20.193590",
     "exception": false,
     "start_time": "2024-09-20T05:43:20.161083",
     "status": "completed"
    },
    "tags": []
   },
   "outputs": [
    {
     "name": "stdout",
     "output_type": "stream",
     "text": [
      "   PassengerId  Pclass                              Name     Sex   Age  SibSp  \\\n",
      "0          892       3                  Kelly, Mr. James    male  34.5      0   \n",
      "1          893       3  Wilkes, Mrs. James (Ellen Needs)  female  47.0      1   \n",
      "2          894       2         Myles, Mr. Thomas Francis    male  62.0      0   \n",
      "\n",
      "   Parch  Ticket    Fare Cabin  ... predict_model_ID3  predict_model_CART  \\\n",
      "0      0  330911  7.8292   NaN  ...                 0                   0   \n",
      "1      0  363272  7.0000   NaN  ...                 0                   0   \n",
      "2      0  240276  9.6875   NaN  ...                 0                   0   \n",
      "\n",
      "   predict_model_svc  predict_model_knn  predict_model_AdaBoost  \\\n",
      "0                  0                  0                       0   \n",
      "1                  0                  1                       0   \n",
      "2                  0                  0                       0   \n",
      "\n",
      "   predict_model_GBDT  predict_model_RF_gini  predict_model_RF_entropy  \\\n",
      "0                   0                      0                         0   \n",
      "1                   0                      0                         0   \n",
      "2                   0                      0                         0   \n",
      "\n",
      "   predict_model_Bagging  predict_model_XGBClassifier  \n",
      "0                      0                            0  \n",
      "1                      0                            0  \n",
      "2                      0                            0  \n",
      "\n",
      "[3 rows x 23 columns]\n"
     ]
    }
   ],
   "source": [
    "# 观测目前测试集已产生的特征结果\n",
    "print(df1_test.head(3))"
   ]
  },
  {
   "cell_type": "code",
   "execution_count": 46,
   "id": "ab5f3095",
   "metadata": {
    "execution": {
     "iopub.execute_input": "2024-09-20T05:43:20.220054Z",
     "iopub.status.busy": "2024-09-20T05:43:20.219616Z",
     "iopub.status.idle": "2024-09-20T05:43:20.234090Z",
     "shell.execute_reply": "2024-09-20T05:43:20.232709Z"
    },
    "papermill": {
     "duration": 0.031004,
     "end_time": "2024-09-20T05:43:20.236748",
     "exception": false,
     "start_time": "2024-09-20T05:43:20.205744",
     "status": "completed"
    },
    "tags": []
   },
   "outputs": [
    {
     "name": "stdout",
     "output_type": "stream",
     "text": [
      "<class 'pandas.core.frame.DataFrame'>\n",
      "RangeIndex: 418 entries, 0 to 417\n",
      "Data columns (total 12 columns):\n",
      " #   Column                       Non-Null Count  Dtype\n",
      "---  ------                       --------------  -----\n",
      " 0   predict_model_Gnb            418 non-null    int64\n",
      " 1   predict_model_Blb            418 non-null    int64\n",
      " 2   predict_model_ID3            418 non-null    int64\n",
      " 3   predict_model_CART           418 non-null    int64\n",
      " 4   predict_model_svc            418 non-null    int64\n",
      " 5   predict_model_knn            418 non-null    int64\n",
      " 6   predict_model_AdaBoost       418 non-null    int64\n",
      " 7   predict_model_GBDT           418 non-null    int64\n",
      " 8   predict_model_RF_gini        418 non-null    int64\n",
      " 9   predict_model_RF_entropy     418 non-null    int64\n",
      " 10  predict_model_Bagging        418 non-null    int64\n",
      " 11  predict_model_XGBClassifier  418 non-null    int64\n",
      "dtypes: int64(12)\n",
      "memory usage: 39.3 KB\n",
      "None\n"
     ]
    }
   ],
   "source": [
    "# 四、预测并输出结果\n",
    "# 产生预测结果\n",
    "test_id = df1_test['PassengerId']\n",
    "df_test2 = df1_test.iloc[:,11:]\n",
    "print(df_test2.info())"
   ]
  },
  {
   "cell_type": "code",
   "execution_count": 47,
   "id": "95a6069c",
   "metadata": {
    "execution": {
     "iopub.execute_input": "2024-09-20T05:43:20.262683Z",
     "iopub.status.busy": "2024-09-20T05:43:20.262264Z",
     "iopub.status.idle": "2024-09-20T05:43:20.286443Z",
     "shell.execute_reply": "2024-09-20T05:43:20.285036Z"
    },
    "papermill": {
     "duration": 0.040368,
     "end_time": "2024-09-20T05:43:20.289281",
     "exception": false,
     "start_time": "2024-09-20T05:43:20.248913",
     "status": "completed"
    },
    "tags": []
   },
   "outputs": [],
   "source": [
    "df_columns = df_test2.columns\n",
    "for i in df_columns:\n",
    "    df_test3 = pd.DataFrame({'PassengerId':test_id,'Survived':df_test2[i]})\n",
    "    df_test3.to_csv('kaggel_titanic_predict_%s.csv' % i,index=False)"
   ]
  },
  {
   "cell_type": "code",
   "execution_count": 48,
   "id": "6acb5776",
   "metadata": {
    "execution": {
     "iopub.execute_input": "2024-09-20T05:43:20.315275Z",
     "iopub.status.busy": "2024-09-20T05:43:20.314860Z",
     "iopub.status.idle": "2024-09-20T05:43:20.320201Z",
     "shell.execute_reply": "2024-09-20T05:43:20.318970Z"
    },
    "papermill": {
     "duration": 0.021201,
     "end_time": "2024-09-20T05:43:20.322685",
     "exception": false,
     "start_time": "2024-09-20T05:43:20.301484",
     "status": "completed"
    },
    "tags": []
   },
   "outputs": [],
   "source": [
    "# 综上，小结\n",
    "# 由于本次项目中，kaggle上评估标准为 accuracy，Accuracy =(TP+TN)/(TP+TN+FP+FN)；\n",
    "# 即，得分越高，准确率越高；\n",
    "# 本项目最佳模型为，RandomForest，criterion='gini'时；\n",
    "# Kaggle上最终得分，0.78468；"
   ]
  }
 ],
 "metadata": {
  "kaggle": {
   "accelerator": "none",
   "dataSources": [
    {
     "databundleVersionId": 26502,
     "sourceId": 3136,
     "sourceType": "competition"
    }
   ],
   "dockerImageVersionId": 30746,
   "isGpuEnabled": false,
   "isInternetEnabled": false,
   "language": "python",
   "sourceType": "notebook"
  },
  "kernelspec": {
   "display_name": "Python 3",
   "language": "python",
   "name": "python3"
  },
  "language_info": {
   "codemirror_mode": {
    "name": "ipython",
    "version": 3
   },
   "file_extension": ".py",
   "mimetype": "text/x-python",
   "name": "python",
   "nbconvert_exporter": "python",
   "pygments_lexer": "ipython3",
   "version": "3.10.13"
  },
  "papermill": {
   "default_parameters": {},
   "duration": 19.056758,
   "end_time": "2024-09-20T05:43:21.058025",
   "environment_variables": {},
   "exception": null,
   "input_path": "__notebook__.ipynb",
   "output_path": "__notebook__.ipynb",
   "parameters": {},
   "start_time": "2024-09-20T05:43:02.001267",
   "version": "2.5.0"
  }
 },
 "nbformat": 4,
 "nbformat_minor": 5
}
