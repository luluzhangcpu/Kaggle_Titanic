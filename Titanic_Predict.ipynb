{
 "cells": [
  {
   "cell_type": "code",
   "execution_count": 1,
   "id": "666d6878",
   "metadata": {
    "_cell_guid": "b1076dfc-b9ad-4769-8c92-a6c4dae69d19",
    "_uuid": "8f2839f25d086af736a60e9eeb907d3b93b6e0e5",
    "execution": {
     "iopub.execute_input": "2024-09-10T07:25:52.728701Z",
     "iopub.status.busy": "2024-09-10T07:25:52.728317Z",
     "iopub.status.idle": "2024-09-10T07:25:55.679485Z",
     "shell.execute_reply": "2024-09-10T07:25:55.678317Z"
    },
    "papermill": {
     "duration": 2.96439,
     "end_time": "2024-09-10T07:25:55.682098",
     "exception": false,
     "start_time": "2024-09-10T07:25:52.717708",
     "status": "completed"
    },
    "tags": []
   },
   "outputs": [],
   "source": [
    "import pandas as pd\n",
    "from sklearn.feature_extraction import DictVectorizer\n",
    "from sklearn.tree import DecisionTreeClassifier\n",
    "import numpy as np\n",
    "import warnings\n",
    "warnings.filterwarnings(\"ignore\")#忽略警告\n",
    "from sklearn.model_selection import cross_val_score\n",
    "from sklearn.metrics import accuracy_score\n",
    "from sklearn.preprocessing import StandardScaler\n",
    "from sklearn.svm import SVC\n",
    "from sklearn.naive_bayes import GaussianNB\n",
    "from sklearn.naive_bayes import BernoulliNB\n",
    "from sklearn.neighbors import KNeighborsClassifier\n",
    "from sklearn.ensemble import AdaBoostClassifier\n",
    "from sklearn.ensemble import GradientBoostingClassifier\n",
    "from sklearn.ensemble import BaggingClassifier\n",
    "from sklearn.ensemble import RandomForestClassifier\n",
    "from sklearn.model_selection import GridSearchCV\n",
    "from sklearn.pipeline import Pipeline\n",
    "from xgboost import XGBClassifier"
   ]
  },
  {
   "cell_type": "code",
   "execution_count": 2,
   "id": "59573ddd",
   "metadata": {
    "execution": {
     "iopub.execute_input": "2024-09-10T07:25:55.700936Z",
     "iopub.status.busy": "2024-09-10T07:25:55.700373Z",
     "iopub.status.idle": "2024-09-10T07:25:55.732037Z",
     "shell.execute_reply": "2024-09-10T07:25:55.730901Z"
    },
    "papermill": {
     "duration": 0.043978,
     "end_time": "2024-09-10T07:25:55.734684",
     "exception": false,
     "start_time": "2024-09-10T07:25:55.690706",
     "status": "completed"
    },
    "tags": []
   },
   "outputs": [],
   "source": [
    "# 读取数据\n",
    "df1_train = pd.read_csv('/kaggle/input/titanic/train.csv')\n",
    "df1_test = pd.read_csv('/kaggle/input/titanic/test.csv')"
   ]
  },
  {
   "cell_type": "code",
   "execution_count": 3,
   "id": "392710b7",
   "metadata": {
    "execution": {
     "iopub.execute_input": "2024-09-10T07:25:55.753842Z",
     "iopub.status.busy": "2024-09-10T07:25:55.752898Z",
     "iopub.status.idle": "2024-09-10T07:25:55.794253Z",
     "shell.execute_reply": "2024-09-10T07:25:55.793068Z"
    },
    "papermill": {
     "duration": 0.053554,
     "end_time": "2024-09-10T07:25:55.796889",
     "exception": false,
     "start_time": "2024-09-10T07:25:55.743335",
     "status": "completed"
    },
    "tags": []
   },
   "outputs": [
    {
     "name": "stdout",
     "output_type": "stream",
     "text": [
      "<class 'pandas.core.frame.DataFrame'>\n",
      "RangeIndex: 891 entries, 0 to 890\n",
      "Data columns (total 12 columns):\n",
      " #   Column       Non-Null Count  Dtype  \n",
      "---  ------       --------------  -----  \n",
      " 0   PassengerId  891 non-null    int64  \n",
      " 1   Survived     891 non-null    int64  \n",
      " 2   Pclass       891 non-null    int64  \n",
      " 3   Name         891 non-null    object \n",
      " 4   Sex          891 non-null    object \n",
      " 5   Age          714 non-null    float64\n",
      " 6   SibSp        891 non-null    int64  \n",
      " 7   Parch        891 non-null    int64  \n",
      " 8   Ticket       891 non-null    object \n",
      " 9   Fare         891 non-null    float64\n",
      " 10  Cabin        204 non-null    object \n",
      " 11  Embarked     889 non-null    object \n",
      "dtypes: float64(2), int64(5), object(5)\n",
      "memory usage: 83.7+ KB\n",
      "None\n",
      "------------------------------\n",
      "<class 'pandas.core.frame.DataFrame'>\n",
      "RangeIndex: 418 entries, 0 to 417\n",
      "Data columns (total 11 columns):\n",
      " #   Column       Non-Null Count  Dtype  \n",
      "---  ------       --------------  -----  \n",
      " 0   PassengerId  418 non-null    int64  \n",
      " 1   Pclass       418 non-null    int64  \n",
      " 2   Name         418 non-null    object \n",
      " 3   Sex          418 non-null    object \n",
      " 4   Age          332 non-null    float64\n",
      " 5   SibSp        418 non-null    int64  \n",
      " 6   Parch        418 non-null    int64  \n",
      " 7   Ticket       418 non-null    object \n",
      " 8   Fare         417 non-null    float64\n",
      " 9   Cabin        91 non-null     object \n",
      " 10  Embarked     418 non-null    object \n",
      "dtypes: float64(2), int64(4), object(5)\n",
      "memory usage: 36.0+ KB\n",
      "None\n"
     ]
    }
   ],
   "source": [
    "# 第一模块：数据探索，查看表的基本情况；\n",
    "print(df1_train.info())\n",
    "print('-'*30)\n",
    "print(df1_test.info())"
   ]
  },
  {
   "cell_type": "code",
   "execution_count": 4,
   "id": "3142df43",
   "metadata": {
    "execution": {
     "iopub.execute_input": "2024-09-10T07:25:55.817099Z",
     "iopub.status.busy": "2024-09-10T07:25:55.816113Z",
     "iopub.status.idle": "2024-09-10T07:25:55.845664Z",
     "shell.execute_reply": "2024-09-10T07:25:55.844396Z"
    },
    "papermill": {
     "duration": 0.042583,
     "end_time": "2024-09-10T07:25:55.848267",
     "exception": false,
     "start_time": "2024-09-10T07:25:55.805684",
     "status": "completed"
    },
    "tags": []
   },
   "outputs": [
    {
     "name": "stdout",
     "output_type": "stream",
     "text": [
      "       PassengerId    Survived      Pclass         Age       SibSp  \\\n",
      "count   891.000000  891.000000  891.000000  714.000000  891.000000   \n",
      "mean    446.000000    0.383838    2.308642   29.699118    0.523008   \n",
      "std     257.353842    0.486592    0.836071   14.526497    1.102743   \n",
      "min       1.000000    0.000000    1.000000    0.420000    0.000000   \n",
      "25%     223.500000    0.000000    2.000000   20.125000    0.000000   \n",
      "50%     446.000000    0.000000    3.000000   28.000000    0.000000   \n",
      "75%     668.500000    1.000000    3.000000   38.000000    1.000000   \n",
      "max     891.000000    1.000000    3.000000   80.000000    8.000000   \n",
      "\n",
      "            Parch        Fare  \n",
      "count  891.000000  891.000000  \n",
      "mean     0.381594   32.204208  \n",
      "std      0.806057   49.693429  \n",
      "min      0.000000    0.000000  \n",
      "25%      0.000000    7.910400  \n",
      "50%      0.000000   14.454200  \n",
      "75%      0.000000   31.000000  \n",
      "max      6.000000  512.329200  \n",
      "------------------------------\n"
     ]
    }
   ],
   "source": [
    "# 对于数值型数据，查看其基本情况（样本量、均值、最大最小值等）\n",
    "print(df1_train.describe())\n",
    "print('-'*30)"
   ]
  },
  {
   "cell_type": "code",
   "execution_count": 5,
   "id": "bc91efe2",
   "metadata": {
    "execution": {
     "iopub.execute_input": "2024-09-10T07:25:55.867453Z",
     "iopub.status.busy": "2024-09-10T07:25:55.867047Z",
     "iopub.status.idle": "2024-09-10T07:25:55.886815Z",
     "shell.execute_reply": "2024-09-10T07:25:55.885413Z"
    },
    "papermill": {
     "duration": 0.033442,
     "end_time": "2024-09-10T07:25:55.890388",
     "exception": false,
     "start_time": "2024-09-10T07:25:55.856946",
     "status": "completed"
    },
    "tags": []
   },
   "outputs": [
    {
     "name": "stdout",
     "output_type": "stream",
     "text": [
      "                           Name   Sex  Ticket    Cabin Embarked\n",
      "count                       891   891     891      204      889\n",
      "unique                      891     2     681      147        3\n",
      "top     Braund, Mr. Owen Harris  male  347082  B96 B98        S\n",
      "freq                          1   577       7        4      644\n",
      "------------------------------\n"
     ]
    }
   ],
   "source": [
    "# 对于字符串数据，查看其基本情况（样本量、非重复计数、频数最高者等）\n",
    "print(df1_train.describe(include=['O']))\n",
    "print('-'*30)"
   ]
  },
  {
   "cell_type": "code",
   "execution_count": 6,
   "id": "ddc6e152",
   "metadata": {
    "execution": {
     "iopub.execute_input": "2024-09-10T07:25:55.915637Z",
     "iopub.status.busy": "2024-09-10T07:25:55.914967Z",
     "iopub.status.idle": "2024-09-10T07:25:55.928715Z",
     "shell.execute_reply": "2024-09-10T07:25:55.927266Z"
    },
    "papermill": {
     "duration": 0.029123,
     "end_time": "2024-09-10T07:25:55.932656",
     "exception": false,
     "start_time": "2024-09-10T07:25:55.903533",
     "status": "completed"
    },
    "tags": []
   },
   "outputs": [],
   "source": [
    "# 第二模块：数据清洗\n",
    "# 由于本项目样本量不大，且较为标准，无需作过多清洗；\n",
    "# 即，重点将缺失值补齐即可；\n",
    "# 对于数值型字段，用其均值补充缺失值\n",
    "df1_train.fillna({'Age':df1_train['Age'].mean()},inplace=True)\n",
    "df1_test.fillna({'Age':df1_train['Age'].mean(),'Fare':df1_train['Fare'].mean()},inplace=True)"
   ]
  },
  {
   "cell_type": "code",
   "execution_count": 7,
   "id": "8d337638",
   "metadata": {
    "execution": {
     "iopub.execute_input": "2024-09-10T07:25:55.956149Z",
     "iopub.status.busy": "2024-09-10T07:25:55.955711Z",
     "iopub.status.idle": "2024-09-10T07:25:55.974311Z",
     "shell.execute_reply": "2024-09-10T07:25:55.972991Z"
    },
    "papermill": {
     "duration": 0.031641,
     "end_time": "2024-09-10T07:25:55.976898",
     "exception": false,
     "start_time": "2024-09-10T07:25:55.945257",
     "status": "completed"
    },
    "tags": []
   },
   "outputs": [
    {
     "name": "stdout",
     "output_type": "stream",
     "text": [
      "<class 'pandas.core.frame.DataFrame'>\n",
      "RangeIndex: 891 entries, 0 to 890\n",
      "Data columns (total 12 columns):\n",
      " #   Column       Non-Null Count  Dtype  \n",
      "---  ------       --------------  -----  \n",
      " 0   PassengerId  891 non-null    int64  \n",
      " 1   Survived     891 non-null    int64  \n",
      " 2   Pclass       891 non-null    int64  \n",
      " 3   Name         891 non-null    object \n",
      " 4   Sex          891 non-null    object \n",
      " 5   Age          891 non-null    float64\n",
      " 6   SibSp        891 non-null    int64  \n",
      " 7   Parch        891 non-null    int64  \n",
      " 8   Ticket       891 non-null    object \n",
      " 9   Fare         891 non-null    float64\n",
      " 10  Cabin        204 non-null    object \n",
      " 11  Embarked     889 non-null    object \n",
      "dtypes: float64(2), int64(5), object(5)\n",
      "memory usage: 83.7+ KB\n",
      "None\n",
      "<class 'pandas.core.frame.DataFrame'>\n",
      "RangeIndex: 418 entries, 0 to 417\n",
      "Data columns (total 11 columns):\n",
      " #   Column       Non-Null Count  Dtype  \n",
      "---  ------       --------------  -----  \n",
      " 0   PassengerId  418 non-null    int64  \n",
      " 1   Pclass       418 non-null    int64  \n",
      " 2   Name         418 non-null    object \n",
      " 3   Sex          418 non-null    object \n",
      " 4   Age          418 non-null    float64\n",
      " 5   SibSp        418 non-null    int64  \n",
      " 6   Parch        418 non-null    int64  \n",
      " 7   Ticket       418 non-null    object \n",
      " 8   Fare         418 non-null    float64\n",
      " 9   Cabin        91 non-null     object \n",
      " 10  Embarked     418 non-null    object \n",
      "dtypes: float64(2), int64(4), object(5)\n",
      "memory usage: 36.0+ KB\n",
      "None\n",
      "------------------------------\n"
     ]
    }
   ],
   "source": [
    "# 查看存在缺失值的字符串字段\n",
    "print(df1_train.info())\n",
    "print(df1_test.info())\n",
    "print('-'*30)"
   ]
  },
  {
   "cell_type": "code",
   "execution_count": 8,
   "id": "f7311ce5",
   "metadata": {
    "execution": {
     "iopub.execute_input": "2024-09-10T07:25:56.000853Z",
     "iopub.status.busy": "2024-09-10T07:25:55.999968Z",
     "iopub.status.idle": "2024-09-10T07:25:56.009949Z",
     "shell.execute_reply": "2024-09-10T07:25:56.008771Z"
    },
    "papermill": {
     "duration": 0.026799,
     "end_time": "2024-09-10T07:25:56.012748",
     "exception": false,
     "start_time": "2024-09-10T07:25:55.985949",
     "status": "completed"
    },
    "tags": []
   },
   "outputs": [
    {
     "name": "stdout",
     "output_type": "stream",
     "text": [
      "Embarked\n",
      "S    644\n",
      "C    168\n",
      "Q     77\n",
      "Name: count, dtype: int64\n"
     ]
    }
   ],
   "source": [
    "# 从以上数据概览，可知 train表存在缺失值的特征为 Embarked、Cabin；\n",
    "# test表中为 Cabin；\n",
    "# 且，由于特征 Cabin 在两张表里，均存在较多的缺失值；\n",
    "# 无法找到合理的方法，大量补全该特征，即，进行模型模拟时，该特征将被剔除；\n",
    "# 对 train表存在缺失值的特征 Embarked，\n",
    "# 按频次降序排列，用频次最高者对其缺失值进行补充；\n",
    "print(df1_train['Embarked'].value_counts())\n",
    "df1_train.fillna({'Embarked':'S'},inplace=True)"
   ]
  },
  {
   "cell_type": "code",
   "execution_count": 9,
   "id": "769dd3a4",
   "metadata": {
    "execution": {
     "iopub.execute_input": "2024-09-10T07:25:56.040612Z",
     "iopub.status.busy": "2024-09-10T07:25:56.039835Z",
     "iopub.status.idle": "2024-09-10T07:25:56.051710Z",
     "shell.execute_reply": "2024-09-10T07:25:56.050640Z"
    },
    "papermill": {
     "duration": 0.029296,
     "end_time": "2024-09-10T07:25:56.054721",
     "exception": false,
     "start_time": "2024-09-10T07:25:56.025425",
     "status": "completed"
    },
    "tags": []
   },
   "outputs": [],
   "source": [
    "# 第三模块：模型的 特征选择\n",
    "# 对于该案例，选择 Pclass、Sex、Age、SibSp、Parch、Ticket、Fare、Embarked 作为特征;\n",
    "# Survived 作为标签\n",
    "features = ['Pclass','Sex','Age','SibSp','Parch','Fare','Embarked']\n",
    "train_features = df1_train[features]\n",
    "train_labels = df1_train['Survived']\n",
    "test_features = df1_test[features]"
   ]
  },
  {
   "cell_type": "code",
   "execution_count": 10,
   "id": "5158ebe9",
   "metadata": {
    "execution": {
     "iopub.execute_input": "2024-09-10T07:25:56.080048Z",
     "iopub.status.busy": "2024-09-10T07:25:56.078913Z",
     "iopub.status.idle": "2024-09-10T07:25:56.114272Z",
     "shell.execute_reply": "2024-09-10T07:25:56.113111Z"
    },
    "papermill": {
     "duration": 0.049974,
     "end_time": "2024-09-10T07:25:56.116893",
     "exception": false,
     "start_time": "2024-09-10T07:25:56.066919",
     "status": "completed"
    },
    "tags": []
   },
   "outputs": [],
   "source": [
    "# 将所有字符串数据，变为 数值型\n",
    "# 将字符串字段 处理成 数值型，使用 Sklearn 特征选择里的 DictVectorizer,并转换成 特征值矩阵\n",
    "# 即，Embarked单独的一列，拆开变成 'Embarked = S'、'Embarked = C'、'Embarked = Q' 3列的值，这3列分别为 0/1\n",
    "# 而，Sex 这一单独列，拆开变成 'Sex = female'、'Sex = male' 2列的值，也均为 0/1 的值\n",
    "# 所以，原来 train_features 仅有 7列，这样，即 扩展为 10列,891行\n",
    "dvec = DictVectorizer(sparse=False)\n",
    "train_features = dvec.fit_transform(train_features.to_dict(orient='records'))\n",
    "test_features = dvec.transform(test_features.to_dict(orient='records'))\n",
    "# 数据规范化：Z-Score 规范化，使得每个特征数据符合，均值为0，方差为1 分布\n",
    "ss = StandardScaler()\n",
    "train_features = ss.fit_transform(train_features)\n",
    "test_features = ss.transform(test_features)"
   ]
  },
  {
   "cell_type": "code",
   "execution_count": 11,
   "id": "bc16a529",
   "metadata": {
    "execution": {
     "iopub.execute_input": "2024-09-10T07:25:56.137534Z",
     "iopub.status.busy": "2024-09-10T07:25:56.137137Z",
     "iopub.status.idle": "2024-09-10T07:25:56.162734Z",
     "shell.execute_reply": "2024-09-10T07:25:56.161480Z"
    },
    "papermill": {
     "duration": 0.038948,
     "end_time": "2024-09-10T07:25:56.165192",
     "exception": false,
     "start_time": "2024-09-10T07:25:56.126244",
     "status": "completed"
    },
    "tags": []
   },
   "outputs": [
    {
     "name": "stdout",
     "output_type": "stream",
     "text": [
      "高斯朴素贝叶斯分类器中 5折交叉验证准确率为 0.7890276818780995\n"
     ]
    }
   ],
   "source": [
    "# 第四模块：构造各分类器，并探索合适的参数\n",
    "# 一、对于贝叶斯分类器，直接使用即可；\n",
    "# 1、高斯贝叶斯分类器\n",
    "# 模型评估\n",
    "Gnb = GaussianNB()\n",
    "Gnb.fit(train_features,train_labels)\n",
    "print('高斯朴素贝叶斯分类器中 5折交叉验证准确率为 %.16f' % np.mean(cross_val_score(Gnb,train_features,train_labels,cv=5)))"
   ]
  },
  {
   "cell_type": "code",
   "execution_count": 12,
   "id": "245919f7",
   "metadata": {
    "execution": {
     "iopub.execute_input": "2024-09-10T07:25:56.186393Z",
     "iopub.status.busy": "2024-09-10T07:25:56.185729Z",
     "iopub.status.idle": "2024-09-10T07:25:56.194486Z",
     "shell.execute_reply": "2024-09-10T07:25:56.193246Z"
    },
    "papermill": {
     "duration": 0.022815,
     "end_time": "2024-09-10T07:25:56.197423",
     "exception": false,
     "start_time": "2024-09-10T07:25:56.174608",
     "status": "completed"
    },
    "tags": []
   },
   "outputs": [],
   "source": [
    "# 结果预测，kaggle上得分为，0.75358\n",
    "test_pre_Gnb = Gnb.predict(test_features)\n",
    "df1_test['predict_model_Gnb'] = test_pre_Gnb"
   ]
  },
  {
   "cell_type": "code",
   "execution_count": 13,
   "id": "fc46d56e",
   "metadata": {
    "execution": {
     "iopub.execute_input": "2024-09-10T07:25:56.223297Z",
     "iopub.status.busy": "2024-09-10T07:25:56.222507Z",
     "iopub.status.idle": "2024-09-10T07:25:56.254377Z",
     "shell.execute_reply": "2024-09-10T07:25:56.253006Z"
    },
    "papermill": {
     "duration": 0.048626,
     "end_time": "2024-09-10T07:25:56.257331",
     "exception": false,
     "start_time": "2024-09-10T07:25:56.208705",
     "status": "completed"
    },
    "tags": []
   },
   "outputs": [
    {
     "name": "stdout",
     "output_type": "stream",
     "text": [
      "伯努利贝叶斯分类器中 5折交叉验证准确率为 0.7800326407632917\n"
     ]
    }
   ],
   "source": [
    "# 2、伯努利贝叶斯分类器\n",
    "# 模型评估\n",
    "Blb = BernoulliNB()\n",
    "Blb.fit(train_features,train_labels)\n",
    "print('伯努利贝叶斯分类器中 5折交叉验证准确率为 %.16f' % np.mean(cross_val_score(Blb,train_features,train_labels,cv=5)))"
   ]
  },
  {
   "cell_type": "code",
   "execution_count": 14,
   "id": "1d9255b9",
   "metadata": {
    "execution": {
     "iopub.execute_input": "2024-09-10T07:25:56.284470Z",
     "iopub.status.busy": "2024-09-10T07:25:56.284089Z",
     "iopub.status.idle": "2024-09-10T07:25:56.292051Z",
     "shell.execute_reply": "2024-09-10T07:25:56.290712Z"
    },
    "papermill": {
     "duration": 0.024195,
     "end_time": "2024-09-10T07:25:56.294654",
     "exception": false,
     "start_time": "2024-09-10T07:25:56.270459",
     "status": "completed"
    },
    "tags": []
   },
   "outputs": [],
   "source": [
    "# 结果预测，kaggle上得分为，0.75837\n",
    "test_pre_Blb = Blb.predict(test_features)\n",
    "df1_test['predict_model_Blb'] = test_pre_Blb"
   ]
  },
  {
   "cell_type": "code",
   "execution_count": 15,
   "id": "a58680ec",
   "metadata": {
    "execution": {
     "iopub.execute_input": "2024-09-10T07:25:56.315634Z",
     "iopub.status.busy": "2024-09-10T07:25:56.315254Z",
     "iopub.status.idle": "2024-09-10T07:25:56.321166Z",
     "shell.execute_reply": "2024-09-10T07:25:56.320050Z"
    },
    "papermill": {
     "duration": 0.019266,
     "end_time": "2024-09-10T07:25:56.323709",
     "exception": false,
     "start_time": "2024-09-10T07:25:56.304443",
     "status": "completed"
    },
    "tags": []
   },
   "outputs": [],
   "source": [
    "# 二、对于不需要复杂调参的一般模型，直接一起用 GridSearchCV 调参，Pipeline流程化；\n",
    "# 即，对决策树（criterion = 'entropy'/'gini'）、SVM分类器、Knn进行下述操作；\n",
    "\n",
    "# 1）建立各分类器：\n",
    "list_classifiers = [\n",
    "    DecisionTreeClassifier(random_state=10,criterion='entropy'),\n",
    "    DecisionTreeClassifier(random_state=10,criterion='gini'),\n",
    "    SVC(random_state=10),\n",
    "    KNeighborsClassifier(),\n",
    "]"
   ]
  },
  {
   "cell_type": "code",
   "execution_count": 16,
   "id": "3a1ca9ec",
   "metadata": {
    "execution": {
     "iopub.execute_input": "2024-09-10T07:25:56.344616Z",
     "iopub.status.busy": "2024-09-10T07:25:56.344060Z",
     "iopub.status.idle": "2024-09-10T07:25:56.349399Z",
     "shell.execute_reply": "2024-09-10T07:25:56.348113Z"
    },
    "papermill": {
     "duration": 0.018198,
     "end_time": "2024-09-10T07:25:56.351606",
     "exception": false,
     "start_time": "2024-09-10T07:25:56.333408",
     "status": "completed"
    },
    "tags": []
   },
   "outputs": [],
   "source": [
    "# 2）对各分类器命名\n",
    "list_classifier_names = [\n",
    "    'ID3',\n",
    "    'CART',\n",
    "    'svc',\n",
    "    'knn',\n",
    "]"
   ]
  },
  {
   "cell_type": "code",
   "execution_count": 17,
   "id": "bbdd0de7",
   "metadata": {
    "execution": {
     "iopub.execute_input": "2024-09-10T07:25:56.372618Z",
     "iopub.status.busy": "2024-09-10T07:25:56.372198Z",
     "iopub.status.idle": "2024-09-10T07:25:56.378563Z",
     "shell.execute_reply": "2024-09-10T07:25:56.377304Z"
    },
    "papermill": {
     "duration": 0.01954,
     "end_time": "2024-09-10T07:25:56.380915",
     "exception": false,
     "start_time": "2024-09-10T07:25:56.361375",
     "status": "completed"
    },
    "tags": []
   },
   "outputs": [],
   "source": [
    "# 3）对各分类器建立拟模拟参数\n",
    "list_classifier_param_grid = [\n",
    "    {'ID3__max_depth':range(3,11)},\n",
    "    {'CART__max_depth': range(3,11)},\n",
    "    {'svc__gamma':[0.001,0.01,0.02,0.03,0.05,0.1,0.15,0.2,0.3,1,10,100]},\n",
    "    {'knn__n_neighbors':[4,6,8,10,15,20,25,30]},\n",
    "]"
   ]
  },
  {
   "cell_type": "code",
   "execution_count": 18,
   "id": "ac21e92c",
   "metadata": {
    "execution": {
     "iopub.execute_input": "2024-09-10T07:25:56.402615Z",
     "iopub.status.busy": "2024-09-10T07:25:56.402248Z",
     "iopub.status.idle": "2024-09-10T07:25:56.409101Z",
     "shell.execute_reply": "2024-09-10T07:25:56.407826Z"
    },
    "papermill": {
     "duration": 0.02013,
     "end_time": "2024-09-10T07:25:56.411336",
     "exception": false,
     "start_time": "2024-09-10T07:25:56.391206",
     "status": "completed"
    },
    "tags": []
   },
   "outputs": [],
   "source": [
    "# 4）对各分类器用网格搜索 GridSearchCV 调参\n",
    "def GridSearchCV_Process(ppl,train_features,train_labels,test_features,param_grid,classifier_name,df1_test):\n",
    "    model1 = GridSearchCV(estimator=ppl,param_grid=param_grid,cv=5) # scoring未指定，默认使用estimator的评估方法，即 accuracy\n",
    "    # 用网格搜索，寻找最优参数、最佳准确率\n",
    "    search1 = model1.fit(train_features,train_labels)\n",
    "    print('%s 模型如下：' % classifier_name)\n",
    "    print('model1 最优参数：',search1.best_params_)\n",
    "    print('model1 最优得分_5折交叉准确率为：',search1.best_score_)\n",
    "    test_predict = search1.predict(test_features)\n",
    "    model_name = ''.join(['predict_model_',classifier_name])\n",
    "    df1_test[model_name] = test_predict"
   ]
  },
  {
   "cell_type": "code",
   "execution_count": 19,
   "id": "d8efe0d4",
   "metadata": {
    "execution": {
     "iopub.execute_input": "2024-09-10T07:25:56.433342Z",
     "iopub.status.busy": "2024-09-10T07:25:56.432912Z",
     "iopub.status.idle": "2024-09-10T07:25:58.976777Z",
     "shell.execute_reply": "2024-09-10T07:25:58.975562Z"
    },
    "papermill": {
     "duration": 2.557781,
     "end_time": "2024-09-10T07:25:58.979333",
     "exception": false,
     "start_time": "2024-09-10T07:25:56.421552",
     "status": "completed"
    },
    "tags": []
   },
   "outputs": [
    {
     "name": "stdout",
     "output_type": "stream",
     "text": [
      "ID3 模型如下：\n",
      "model1 最优参数： {'ID3__max_depth': 8}\n",
      "model1 最优得分_5折交叉准确率为： 0.8148389931579938\n",
      "CART 模型如下：\n",
      "model1 最优参数： {'CART__max_depth': 6}\n",
      "model1 最优得分_5折交叉准确率为： 0.813709120582512\n",
      "svc 模型如下：\n",
      "model1 最优参数： {'svc__gamma': 0.1}\n",
      "model1 最优得分_5折交叉准确率为： 0.8249074132195091\n",
      "knn 模型如下：\n",
      "model1 最优参数： {'knn__n_neighbors': 20}\n",
      "model1 最优得分_5折交叉准确率为： 0.8159249262444291\n"
     ]
    }
   ],
   "source": [
    "# 5）各分类器结果预测\n",
    "for classifier,classifier_name,classifier_param_grid in zip(list_classifiers,list_classifier_names,list_classifier_param_grid):\n",
    "    ppl = Pipeline([\n",
    "        (classifier_name,classifier)\n",
    "    ])\n",
    "    GridSearchCV_Process(ppl,train_features,train_labels,test_features,classifier_param_grid,classifier_name,df1_test)"
   ]
  },
  {
   "cell_type": "code",
   "execution_count": 20,
   "id": "2617e73d",
   "metadata": {
    "execution": {
     "iopub.execute_input": "2024-09-10T07:25:59.000977Z",
     "iopub.status.busy": "2024-09-10T07:25:59.000623Z",
     "iopub.status.idle": "2024-09-10T07:25:59.005696Z",
     "shell.execute_reply": "2024-09-10T07:25:59.004402Z"
    },
    "papermill": {
     "duration": 0.018778,
     "end_time": "2024-09-10T07:25:59.008261",
     "exception": false,
     "start_time": "2024-09-10T07:25:58.989483",
     "status": "completed"
    },
    "tags": []
   },
   "outputs": [],
   "source": [
    "# 6）各模型结果显示如下\n",
    "# ID3模型\n",
    "# kaggle上得分，0.76076"
   ]
  },
  {
   "cell_type": "code",
   "execution_count": 21,
   "id": "7fd7adf9",
   "metadata": {
    "execution": {
     "iopub.execute_input": "2024-09-10T07:25:59.030070Z",
     "iopub.status.busy": "2024-09-10T07:25:59.029660Z",
     "iopub.status.idle": "2024-09-10T07:25:59.034284Z",
     "shell.execute_reply": "2024-09-10T07:25:59.033166Z"
    },
    "papermill": {
     "duration": 0.018193,
     "end_time": "2024-09-10T07:25:59.036704",
     "exception": false,
     "start_time": "2024-09-10T07:25:59.018511",
     "status": "completed"
    },
    "tags": []
   },
   "outputs": [],
   "source": [
    "# CART模型\n",
    "# kaggle上得分，0.76794"
   ]
  },
  {
   "cell_type": "code",
   "execution_count": 22,
   "id": "a1253f11",
   "metadata": {
    "execution": {
     "iopub.execute_input": "2024-09-10T07:25:59.059099Z",
     "iopub.status.busy": "2024-09-10T07:25:59.058701Z",
     "iopub.status.idle": "2024-09-10T07:25:59.063867Z",
     "shell.execute_reply": "2024-09-10T07:25:59.062566Z"
    },
    "papermill": {
     "duration": 0.019208,
     "end_time": "2024-09-10T07:25:59.066422",
     "exception": false,
     "start_time": "2024-09-10T07:25:59.047214",
     "status": "completed"
    },
    "tags": []
   },
   "outputs": [],
   "source": [
    "# svc模型\n",
    "# kaggle上得分，0.77990"
   ]
  },
  {
   "cell_type": "code",
   "execution_count": 23,
   "id": "3c26effd",
   "metadata": {
    "execution": {
     "iopub.execute_input": "2024-09-10T07:25:59.088488Z",
     "iopub.status.busy": "2024-09-10T07:25:59.088072Z",
     "iopub.status.idle": "2024-09-10T07:25:59.092920Z",
     "shell.execute_reply": "2024-09-10T07:25:59.091808Z"
    },
    "papermill": {
     "duration": 0.018686,
     "end_time": "2024-09-10T07:25:59.095282",
     "exception": false,
     "start_time": "2024-09-10T07:25:59.076596",
     "status": "completed"
    },
    "tags": []
   },
   "outputs": [],
   "source": [
    "# knn模型\n",
    "# kaggle上得分，0.77272"
   ]
  },
  {
   "cell_type": "code",
   "execution_count": 24,
   "id": "9f10294d",
   "metadata": {
    "execution": {
     "iopub.execute_input": "2024-09-10T07:25:59.117511Z",
     "iopub.status.busy": "2024-09-10T07:25:59.117109Z",
     "iopub.status.idle": "2024-09-10T07:25:59.122663Z",
     "shell.execute_reply": "2024-09-10T07:25:59.121328Z"
    },
    "papermill": {
     "duration": 0.01944,
     "end_time": "2024-09-10T07:25:59.124985",
     "exception": false,
     "start_time": "2024-09-10T07:25:59.105545",
     "status": "completed"
    },
    "tags": []
   },
   "outputs": [],
   "source": [
    "# 三、需特别调参的分类器\n",
    "# 1、Adaboost分类器\n",
    "# 用网格搜索调参，构建模型；\n",
    "# scoring = 默认，也即，scoring = 'accuracy'\n",
    "# param1 = {'n_estimators':range(500,1001,100)}\n",
    "# model1 = GridSearchCV(estimator=AdaBoostClassifier(random_state=10),\\\n",
    "#                       param_grid=param1,cv=5) # 5折交叉验证\n",
    "# model1.fit(train_features,train_labels)\n",
    "# print(model1.best_score_) # 得分为：0.8126169104262131\n",
    "# print(model1.best_params_) # {'n_estimators':600}"
   ]
  },
  {
   "cell_type": "code",
   "execution_count": 25,
   "id": "b40978f6",
   "metadata": {
    "execution": {
     "iopub.execute_input": "2024-09-10T07:25:59.147765Z",
     "iopub.status.busy": "2024-09-10T07:25:59.147387Z",
     "iopub.status.idle": "2024-09-10T07:25:59.152477Z",
     "shell.execute_reply": "2024-09-10T07:25:59.151326Z"
    },
    "papermill": {
     "duration": 0.019363,
     "end_time": "2024-09-10T07:25:59.154745",
     "exception": false,
     "start_time": "2024-09-10T07:25:59.135382",
     "status": "completed"
    },
    "tags": []
   },
   "outputs": [],
   "source": [
    "# param2 = {'learning_rate':[0.00001,0.00005,0.0001,0.0005,0.001,0.005,0.01,0.05,0.1,0.5,1,3,5,10]}\n",
    "# model2 = GridSearchCV(estimator=AdaBoostClassifier(random_state=10,n_estimators=600),\\\n",
    "#                       param_grid=param2,cv=5) # 5折交叉验证\n",
    "# model2.fit(train_features,train_labels)\n",
    "# print(model2.best_score_) # 得分为：0.8126169104262131\n",
    "# print(model2.best_params_) # {'learning_rate':1}"
   ]
  },
  {
   "cell_type": "code",
   "execution_count": 26,
   "id": "43c2c035",
   "metadata": {
    "execution": {
     "iopub.execute_input": "2024-09-10T07:25:59.177344Z",
     "iopub.status.busy": "2024-09-10T07:25:59.176931Z",
     "iopub.status.idle": "2024-09-10T07:26:00.548517Z",
     "shell.execute_reply": "2024-09-10T07:26:00.547287Z"
    },
    "papermill": {
     "duration": 1.386399,
     "end_time": "2024-09-10T07:26:00.551513",
     "exception": false,
     "start_time": "2024-09-10T07:25:59.165114",
     "status": "completed"
    },
    "tags": []
   },
   "outputs": [],
   "source": [
    "# 结果预测，kaggle上得分，0.75837\n",
    "model3 = AdaBoostClassifier(n_estimators=600,random_state=10,learning_rate=1)\n",
    "model3.fit(train_features,train_labels)\n",
    "test_pre_AdaBoost = model3.predict(test_features)\n",
    "df1_test['predict_model_AdaBoost'] = test_pre_AdaBoost"
   ]
  },
  {
   "cell_type": "code",
   "execution_count": 27,
   "id": "b10fbb23",
   "metadata": {
    "execution": {
     "iopub.execute_input": "2024-09-10T07:26:00.574937Z",
     "iopub.status.busy": "2024-09-10T07:26:00.574575Z",
     "iopub.status.idle": "2024-09-10T07:26:00.579717Z",
     "shell.execute_reply": "2024-09-10T07:26:00.578528Z"
    },
    "papermill": {
     "duration": 0.0194,
     "end_time": "2024-09-10T07:26:00.582176",
     "exception": false,
     "start_time": "2024-09-10T07:26:00.562776",
     "status": "completed"
    },
    "tags": []
   },
   "outputs": [],
   "source": [
    "# 2、GradientBoostingClassifie（梯度提升分类器）\n",
    "# 用网格搜索调参，构建模型；\n",
    "# param1 = {'n_estimators':range(500,1001,100)}\n",
    "# model1 = GridSearchCV(estimator=GradientBoostingClassifier(learning_rate=0.1,random_state=10),param_grid=param1,cv=5)\n",
    "# model1.fit(train_features,train_labels)\n",
    "# print(model1.best_score_) # 得分为：0.8271797125102003\n",
    "# print(model1.best_params_) # {'n_estimators':500}"
   ]
  },
  {
   "cell_type": "code",
   "execution_count": 28,
   "id": "09537398",
   "metadata": {
    "execution": {
     "iopub.execute_input": "2024-09-10T07:26:00.604701Z",
     "iopub.status.busy": "2024-09-10T07:26:00.604291Z",
     "iopub.status.idle": "2024-09-10T07:26:00.609437Z",
     "shell.execute_reply": "2024-09-10T07:26:00.608347Z"
    },
    "papermill": {
     "duration": 0.019183,
     "end_time": "2024-09-10T07:26:00.611689",
     "exception": false,
     "start_time": "2024-09-10T07:26:00.592506",
     "status": "completed"
    },
    "tags": []
   },
   "outputs": [],
   "source": [
    "# param2 = {'max_depth':range(3,11),'min_samples_split':range(10,21,2)}\n",
    "# model2 = GridSearchCV(estimator=GradientBoostingClassifier(random_state=10,learning_rate=0.1,n_estimators=500),param_grid=param2)\n",
    "# model2.fit(train_features,train_labels)\n",
    "# print(model2.best_score_) # 得分为：0.8305379448873266\n",
    "# print(model2.best_params_) # {'max_depth':3, 'min_samples_split':14}"
   ]
  },
  {
   "cell_type": "code",
   "execution_count": 29,
   "id": "ff3122ee",
   "metadata": {
    "execution": {
     "iopub.execute_input": "2024-09-10T07:26:00.634239Z",
     "iopub.status.busy": "2024-09-10T07:26:00.633837Z",
     "iopub.status.idle": "2024-09-10T07:26:01.316321Z",
     "shell.execute_reply": "2024-09-10T07:26:01.315119Z"
    },
    "papermill": {
     "duration": 0.696922,
     "end_time": "2024-09-10T07:26:01.319091",
     "exception": false,
     "start_time": "2024-09-10T07:26:00.622169",
     "status": "completed"
    },
    "tags": []
   },
   "outputs": [],
   "source": [
    "# 结果预测，kaggle上得分，0.75837\n",
    "model3 = GradientBoostingClassifier(n_estimators=500,random_state=10,learning_rate=0.1,max_depth=3,min_samples_split=14)\n",
    "model3.fit(train_features,train_labels)\n",
    "test_pre_GBDT = model3.predict(test_features)\n",
    "df1_test['predict_model_GBDT'] = test_pre_GBDT"
   ]
  },
  {
   "cell_type": "code",
   "execution_count": 30,
   "id": "9e9b7d06",
   "metadata": {
    "execution": {
     "iopub.execute_input": "2024-09-10T07:26:01.341894Z",
     "iopub.status.busy": "2024-09-10T07:26:01.341518Z",
     "iopub.status.idle": "2024-09-10T07:26:01.347357Z",
     "shell.execute_reply": "2024-09-10T07:26:01.346117Z"
    },
    "papermill": {
     "duration": 0.020059,
     "end_time": "2024-09-10T07:26:01.349766",
     "exception": false,
     "start_time": "2024-09-10T07:26:01.329707",
     "status": "completed"
    },
    "tags": []
   },
   "outputs": [],
   "source": [
    "# 3、RandomForestClassifier_gini（随机森林分类器）\n",
    "# 用网格搜索调参，构建模型；\n",
    "# 指定划分子树的评估标准，criterion = 'gini'，默认值，计算基尼系数；\n",
    "# param1 = {'n_estimators':range(500,1001,50)}\n",
    "# model1 = GridSearchCV(estimator=RandomForestClassifier(random_state=10,oob_score=True),\\\n",
    "#                       param_grid=param1,cv=5)\n",
    "# model1.fit(train_features,train_labels)\n",
    "# print(model1.best_score_) # 得分为：0.8137153976523759\n",
    "# print(model1.best_params_) # {'n_estimators':500}"
   ]
  },
  {
   "cell_type": "code",
   "execution_count": 31,
   "id": "ef0bd1ab",
   "metadata": {
    "execution": {
     "iopub.execute_input": "2024-09-10T07:26:01.372870Z",
     "iopub.status.busy": "2024-09-10T07:26:01.372450Z",
     "iopub.status.idle": "2024-09-10T07:26:01.377576Z",
     "shell.execute_reply": "2024-09-10T07:26:01.376201Z"
    },
    "papermill": {
     "duration": 0.019563,
     "end_time": "2024-09-10T07:26:01.380168",
     "exception": false,
     "start_time": "2024-09-10T07:26:01.360605",
     "status": "completed"
    },
    "tags": []
   },
   "outputs": [],
   "source": [
    "# param2 = {'max_depth':range(3,11),'min_samples_split':range(10,21,2)}\n",
    "# model2 = GridSearchCV(estimator=RandomForestClassifier(random_state=10,n_estimators=500,oob_score=True),param_grid=param2,cv=5)\n",
    "# model2.fit(train_features,train_labels)\n",
    "# print(model2.best_score_) # 得分为：0.8305504990270542\n",
    "# print(model2.best_params_) # {'max_depth':10, 'min_samples_split':10}"
   ]
  },
  {
   "cell_type": "code",
   "execution_count": 32,
   "id": "441f8c70",
   "metadata": {
    "execution": {
     "iopub.execute_input": "2024-09-10T07:26:01.405582Z",
     "iopub.status.busy": "2024-09-10T07:26:01.405176Z",
     "iopub.status.idle": "2024-09-10T07:26:02.780032Z",
     "shell.execute_reply": "2024-09-10T07:26:02.778968Z"
    },
    "papermill": {
     "duration": 1.38983,
     "end_time": "2024-09-10T07:26:02.782561",
     "exception": false,
     "start_time": "2024-09-10T07:26:01.392731",
     "status": "completed"
    },
    "tags": []
   },
   "outputs": [],
   "source": [
    "# 结果预测，kaggle上得分，0.78468\n",
    "model3 = RandomForestClassifier(random_state=10,n_estimators=500,oob_score=True,min_samples_split=10,max_depth=10)\n",
    "model3.fit(train_features,train_labels)\n",
    "test_pre_RF_gini = model3.predict(test_features)\n",
    "df1_test['predict_model_RF_gini'] = test_pre_RF_gini"
   ]
  },
  {
   "cell_type": "code",
   "execution_count": 33,
   "id": "3b5019c7",
   "metadata": {
    "execution": {
     "iopub.execute_input": "2024-09-10T07:26:02.805976Z",
     "iopub.status.busy": "2024-09-10T07:26:02.805577Z",
     "iopub.status.idle": "2024-09-10T07:26:02.811189Z",
     "shell.execute_reply": "2024-09-10T07:26:02.810088Z"
    },
    "papermill": {
     "duration": 0.020326,
     "end_time": "2024-09-10T07:26:02.813734",
     "exception": false,
     "start_time": "2024-09-10T07:26:02.793408",
     "status": "completed"
    },
    "tags": []
   },
   "outputs": [],
   "source": [
    "# 4、RandomForestClassifier_entropy（随机森林分类器）\n",
    "# 用网格搜索调参，构建模型；\n",
    "# 指定划分子树的评估标准，criterion = 'entropy’，使用基于信息熵的方法；\n",
    "# param1 = {'n_estimators':range(500,1001,100)}\n",
    "# model1 = GridSearchCV(estimator=RandomForestClassifier(random_state=10,criterion='entropy'),param_grid=param1,cv=5)\n",
    "# model1.fit(train_features,train_labels)\n",
    "# print(model1.best_score_) # 得分为：0.815956311593748\n",
    "# print(model1.best_params_) # {'n_estimators':700}"
   ]
  },
  {
   "cell_type": "code",
   "execution_count": 34,
   "id": "a15198b5",
   "metadata": {
    "execution": {
     "iopub.execute_input": "2024-09-10T07:26:02.839227Z",
     "iopub.status.busy": "2024-09-10T07:26:02.837918Z",
     "iopub.status.idle": "2024-09-10T07:26:02.844773Z",
     "shell.execute_reply": "2024-09-10T07:26:02.843344Z"
    },
    "papermill": {
     "duration": 0.022831,
     "end_time": "2024-09-10T07:26:02.847738",
     "exception": false,
     "start_time": "2024-09-10T07:26:02.824907",
     "status": "completed"
    },
    "tags": []
   },
   "outputs": [],
   "source": [
    "# param2 = {'max_depth':range(3,11),'min_samples_split':range(10,21,2)}\n",
    "# model2 = GridSearchCV(estimator=RandomForestClassifier(random_state=10,criterion='entropy',n_estimators=700,oob_score=True),param_grid=param2,cv=5)\n",
    "# model2.fit(train_features,train_labels)\n",
    "# print(model2.best_score_) # 得分为：0.8271922666499278\n",
    "# print(model2.best_params_) # {'max_depth': 9, 'min_samples_split': 12}"
   ]
  },
  {
   "cell_type": "code",
   "execution_count": 35,
   "id": "6926c005",
   "metadata": {
    "execution": {
     "iopub.execute_input": "2024-09-10T07:26:02.871984Z",
     "iopub.status.busy": "2024-09-10T07:26:02.871054Z",
     "iopub.status.idle": "2024-09-10T07:26:04.482466Z",
     "shell.execute_reply": "2024-09-10T07:26:04.481043Z"
    },
    "papermill": {
     "duration": 1.626149,
     "end_time": "2024-09-10T07:26:04.485237",
     "exception": false,
     "start_time": "2024-09-10T07:26:02.859088",
     "status": "completed"
    },
    "tags": []
   },
   "outputs": [],
   "source": [
    "# 结果预测，kaggle上得分，0.77511\n",
    "model3 = RandomForestClassifier(n_estimators=700,random_state=10,criterion='entropy',max_depth=9, min_samples_split=12)\n",
    "model3.fit(train_features,train_labels)\n",
    "test_pre_RF_entropy = model3.predict(test_features)\n",
    "df1_test['predict_model_RF_entropy'] = test_pre_RF_entropy"
   ]
  },
  {
   "cell_type": "code",
   "execution_count": 36,
   "id": "b8c169c2",
   "metadata": {
    "execution": {
     "iopub.execute_input": "2024-09-10T07:26:04.510184Z",
     "iopub.status.busy": "2024-09-10T07:26:04.509762Z",
     "iopub.status.idle": "2024-09-10T07:26:04.514989Z",
     "shell.execute_reply": "2024-09-10T07:26:04.513898Z"
    },
    "papermill": {
     "duration": 0.020577,
     "end_time": "2024-09-10T07:26:04.517468",
     "exception": false,
     "start_time": "2024-09-10T07:26:04.496891",
     "status": "completed"
    },
    "tags": []
   },
   "outputs": [],
   "source": [
    "# 4、BaggingClassifier\n",
    "# 用网格搜索调参，构建模型；\n",
    "# scoring = 默认，也即，scoring = 'accuracy'\n",
    "# param1 = {'n_estimators':range(10,501,10)}\n",
    "# model1 = GridSearchCV(estimator=BaggingClassifier(random_state=10),\\\n",
    "#                       param_grid=param1,cv=5)\n",
    "# model1.fit(train_features,train_labels)\n",
    "# print(model1.best_score_) # 0.8182097796748478\n",
    "# print(model1.best_params_) # {'n_estimators': 320}"
   ]
  },
  {
   "cell_type": "code",
   "execution_count": 37,
   "id": "22471ac5",
   "metadata": {
    "execution": {
     "iopub.execute_input": "2024-09-10T07:26:04.541585Z",
     "iopub.status.busy": "2024-09-10T07:26:04.541181Z",
     "iopub.status.idle": "2024-09-10T07:26:04.547297Z",
     "shell.execute_reply": "2024-09-10T07:26:04.546178Z"
    },
    "papermill": {
     "duration": 0.021027,
     "end_time": "2024-09-10T07:26:04.549759",
     "exception": false,
     "start_time": "2024-09-10T07:26:04.528732",
     "status": "completed"
    },
    "tags": []
   },
   "outputs": [],
   "source": [
    "# param2 = {'max_samples':[0.5,0.8,1],'max_features':[0.5,1]}\n",
    "# model2 = GridSearchCV(estimator=BaggingClassifier(random_state=10,n_estimators=320),\\\n",
    "#                       param_grid=param2,cv=5)\n",
    "# model2.fit(train_features,train_labels)\n",
    "# print(model2.best_score_) # 0.8249576297784194\n",
    "# print(model2.best_params_) # {'max_features': 0.5, 'max_samples': 0.8}"
   ]
  },
  {
   "cell_type": "code",
   "execution_count": 38,
   "id": "862ba495",
   "metadata": {
    "execution": {
     "iopub.execute_input": "2024-09-10T07:26:04.636769Z",
     "iopub.status.busy": "2024-09-10T07:26:04.636377Z",
     "iopub.status.idle": "2024-09-10T07:26:05.634956Z",
     "shell.execute_reply": "2024-09-10T07:26:05.633700Z"
    },
    "papermill": {
     "duration": 1.076628,
     "end_time": "2024-09-10T07:26:05.637795",
     "exception": false,
     "start_time": "2024-09-10T07:26:04.561167",
     "status": "completed"
    },
    "tags": []
   },
   "outputs": [],
   "source": [
    "# 结果预测，kaggle上得分，0.78229\n",
    "model3 = BaggingClassifier(n_estimators=320,random_state=10,max_features=0.5, max_samples=0.8)\n",
    "model3.fit(train_features,train_labels)\n",
    "test_pre_Bagging = model3.predict(test_features)\n",
    "df1_test['predict_model_Bagging'] = test_pre_Bagging"
   ]
  },
  {
   "cell_type": "code",
   "execution_count": 39,
   "id": "9d28edd4",
   "metadata": {
    "execution": {
     "iopub.execute_input": "2024-09-10T07:26:05.663799Z",
     "iopub.status.busy": "2024-09-10T07:26:05.663313Z",
     "iopub.status.idle": "2024-09-10T07:26:05.669772Z",
     "shell.execute_reply": "2024-09-10T07:26:05.668352Z"
    },
    "papermill": {
     "duration": 0.023078,
     "end_time": "2024-09-10T07:26:05.672068",
     "exception": false,
     "start_time": "2024-09-10T07:26:05.648990",
     "status": "completed"
    },
    "tags": []
   },
   "outputs": [],
   "source": [
    "# 5、XGBoost分类器\n",
    "# 用网格搜索调参，构建模型；\n",
    "# scoring = 默认，也即，scoring = 'accuracy'\n",
    "# param1 = {'scale_pos_weight':[1,2,3],'min_child_weight':[1,2,3],'max_delta_step':[1,2,3]}\n",
    "# model1 = GridSearchCV(estimator=XGBClassifier(random_state=10),\\\n",
    "#                       param_grid=param1,cv=5)\n",
    "# model1.fit(train_features,train_labels)\n",
    "# print(model1.best_score_) # 得分为：0.8260561170045821\n",
    "# print(model1.best_params_) # {'max_delta_step': 1, 'min_child_weight': 3, 'scale_pos_weight': 1}"
   ]
  },
  {
   "cell_type": "code",
   "execution_count": 40,
   "id": "e2072f4e",
   "metadata": {
    "execution": {
     "iopub.execute_input": "2024-09-10T07:26:05.699482Z",
     "iopub.status.busy": "2024-09-10T07:26:05.699060Z",
     "iopub.status.idle": "2024-09-10T07:26:05.704384Z",
     "shell.execute_reply": "2024-09-10T07:26:05.703217Z"
    },
    "papermill": {
     "duration": 0.022448,
     "end_time": "2024-09-10T07:26:05.706891",
     "exception": false,
     "start_time": "2024-09-10T07:26:05.684443",
     "status": "completed"
    },
    "tags": []
   },
   "outputs": [],
   "source": [
    "# param2 = {'learning_rate':[0.00001,0.00005,0.0001,0.0005,0.001,0.005,0.01,0.05,0.1,0.5,1,3,5,10]}\n",
    "# model2 = GridSearchCV(estimator=XGBClassifier(random_state=10,scale_pos_weight=1,min_child_weight=3,max_delta_step=1),\\\n",
    "#                       param_grid=param2,cv=5)\n",
    "# model2.fit(train_features,train_labels)\n",
    "# print(model2.best_score_) # 得分为：0.8372857949908983\n",
    "# print(model2.best_params_) # {'learning_rate':0.1}"
   ]
  },
  {
   "cell_type": "code",
   "execution_count": 41,
   "id": "edfb69d7",
   "metadata": {
    "execution": {
     "iopub.execute_input": "2024-09-10T07:26:05.732929Z",
     "iopub.status.busy": "2024-09-10T07:26:05.732428Z",
     "iopub.status.idle": "2024-09-10T07:26:05.738570Z",
     "shell.execute_reply": "2024-09-10T07:26:05.737171Z"
    },
    "papermill": {
     "duration": 0.022251,
     "end_time": "2024-09-10T07:26:05.741388",
     "exception": false,
     "start_time": "2024-09-10T07:26:05.719137",
     "status": "completed"
    },
    "tags": []
   },
   "outputs": [],
   "source": [
    "# param3 = {'n_estimators':range(1,1002,50)}\n",
    "# model3 = GridSearchCV(estimator=XGBClassifier(random_state=10,scale_pos_weight=1,min_child_weight=3,max_delta_step=1,learning_rate=0.1),param_grid=param3,cv=5)\n",
    "# model3.fit(train_features,train_labels)\n",
    "# print(model3.best_score_) # 得分为：0.8372857949908983\n",
    "# print(model3.best_params_) # {'n_estimators':101}"
   ]
  },
  {
   "cell_type": "code",
   "execution_count": 42,
   "id": "3e7d0aa3",
   "metadata": {
    "execution": {
     "iopub.execute_input": "2024-09-10T07:26:05.765855Z",
     "iopub.status.busy": "2024-09-10T07:26:05.765398Z",
     "iopub.status.idle": "2024-09-10T07:26:05.770913Z",
     "shell.execute_reply": "2024-09-10T07:26:05.769728Z"
    },
    "papermill": {
     "duration": 0.020581,
     "end_time": "2024-09-10T07:26:05.773347",
     "exception": false,
     "start_time": "2024-09-10T07:26:05.752766",
     "status": "completed"
    },
    "tags": []
   },
   "outputs": [],
   "source": [
    "# param4 = {'max_depth':range(3,11)}\n",
    "# model4 = GridSearchCV(estimator=XGBClassifier(random_state=10,scale_pos_weight=1,min_child_weight=3,max_delta_step=1,learning_rate=0.1,n_estimators=101),param_grid=param4,cv=5)\n",
    "# model4.fit(train_features,train_labels)\n",
    "# print(model4.best_score_) # 得分为：0.8395267089322704\n",
    "# print(model4.best_params_) # {'max_depth':7}"
   ]
  },
  {
   "cell_type": "code",
   "execution_count": 43,
   "id": "45355d9e",
   "metadata": {
    "execution": {
     "iopub.execute_input": "2024-09-10T07:26:05.798278Z",
     "iopub.status.busy": "2024-09-10T07:26:05.797276Z",
     "iopub.status.idle": "2024-09-10T07:26:06.854494Z",
     "shell.execute_reply": "2024-09-10T07:26:06.853302Z"
    },
    "papermill": {
     "duration": 1.072291,
     "end_time": "2024-09-10T07:26:06.856971",
     "exception": false,
     "start_time": "2024-09-10T07:26:05.784680",
     "status": "completed"
    },
    "tags": []
   },
   "outputs": [],
   "source": [
    "# 结果预测，kaggle上得分，0.76315\n",
    "model5 = XGBClassifier(random_state=10,scale_pos_weight=1,min_child_weight=3,max_delta_step=1,\\\n",
    "                       learning_rate=0.1,n_estimators=101,max_depth=7)\n",
    "model5.fit(train_features,train_labels)\n",
    "test_pre_xgb = model5.predict(test_features)\n",
    "df1_test['predict_model_XGBClassifier'] = test_pre_xgb"
   ]
  },
  {
   "cell_type": "code",
   "execution_count": 44,
   "id": "ea00cd67",
   "metadata": {
    "execution": {
     "iopub.execute_input": "2024-09-10T07:26:06.883179Z",
     "iopub.status.busy": "2024-09-10T07:26:06.882403Z",
     "iopub.status.idle": "2024-09-10T07:26:06.896953Z",
     "shell.execute_reply": "2024-09-10T07:26:06.895268Z"
    },
    "papermill": {
     "duration": 0.030299,
     "end_time": "2024-09-10T07:26:06.899503",
     "exception": false,
     "start_time": "2024-09-10T07:26:06.869204",
     "status": "completed"
    },
    "tags": []
   },
   "outputs": [
    {
     "name": "stdout",
     "output_type": "stream",
     "text": [
      "   PassengerId  Pclass                              Name     Sex   Age  SibSp  \\\n",
      "0          892       3                  Kelly, Mr. James    male  34.5      0   \n",
      "1          893       3  Wilkes, Mrs. James (Ellen Needs)  female  47.0      1   \n",
      "2          894       2         Myles, Mr. Thomas Francis    male  62.0      0   \n",
      "\n",
      "   Parch  Ticket    Fare Cabin  ... predict_model_ID3  predict_model_CART  \\\n",
      "0      0  330911  7.8292   NaN  ...                 0                   0   \n",
      "1      0  363272  7.0000   NaN  ...                 0                   0   \n",
      "2      0  240276  9.6875   NaN  ...                 0                   0   \n",
      "\n",
      "   predict_model_svc  predict_model_knn  predict_model_AdaBoost  \\\n",
      "0                  0                  0                       0   \n",
      "1                  0                  1                       0   \n",
      "2                  0                  0                       0   \n",
      "\n",
      "   predict_model_GBDT  predict_model_RF_gini  predict_model_RF_entropy  \\\n",
      "0                   0                      0                         0   \n",
      "1                   0                      0                         0   \n",
      "2                   0                      0                         0   \n",
      "\n",
      "   predict_model_Bagging  predict_model_XGBClassifier  \n",
      "0                      0                            0  \n",
      "1                      0                            0  \n",
      "2                      0                            0  \n",
      "\n",
      "[3 rows x 23 columns]\n"
     ]
    }
   ],
   "source": [
    "# 观测目前测试集已产生的特征结果\n",
    "print(df1_test.head(3))"
   ]
  },
  {
   "cell_type": "code",
   "execution_count": 45,
   "id": "fcd0f901",
   "metadata": {
    "execution": {
     "iopub.execute_input": "2024-09-10T07:26:06.924952Z",
     "iopub.status.busy": "2024-09-10T07:26:06.924584Z",
     "iopub.status.idle": "2024-09-10T07:26:06.938778Z",
     "shell.execute_reply": "2024-09-10T07:26:06.937434Z"
    },
    "papermill": {
     "duration": 0.029723,
     "end_time": "2024-09-10T07:26:06.941333",
     "exception": false,
     "start_time": "2024-09-10T07:26:06.911610",
     "status": "completed"
    },
    "tags": []
   },
   "outputs": [
    {
     "name": "stdout",
     "output_type": "stream",
     "text": [
      "<class 'pandas.core.frame.DataFrame'>\n",
      "RangeIndex: 418 entries, 0 to 417\n",
      "Data columns (total 12 columns):\n",
      " #   Column                       Non-Null Count  Dtype\n",
      "---  ------                       --------------  -----\n",
      " 0   predict_model_Gnb            418 non-null    int64\n",
      " 1   predict_model_Blb            418 non-null    int64\n",
      " 2   predict_model_ID3            418 non-null    int64\n",
      " 3   predict_model_CART           418 non-null    int64\n",
      " 4   predict_model_svc            418 non-null    int64\n",
      " 5   predict_model_knn            418 non-null    int64\n",
      " 6   predict_model_AdaBoost       418 non-null    int64\n",
      " 7   predict_model_GBDT           418 non-null    int64\n",
      " 8   predict_model_RF_gini        418 non-null    int64\n",
      " 9   predict_model_RF_entropy     418 non-null    int64\n",
      " 10  predict_model_Bagging        418 non-null    int64\n",
      " 11  predict_model_XGBClassifier  418 non-null    int64\n",
      "dtypes: int64(12)\n",
      "memory usage: 39.3 KB\n",
      "None\n"
     ]
    }
   ],
   "source": [
    "# 四、预测并输出结果\n",
    "# 产生预测结果\n",
    "test_id = df1_test['PassengerId']\n",
    "df_test2 = df1_test.iloc[:,11:]\n",
    "print(df_test2.info())"
   ]
  },
  {
   "cell_type": "code",
   "execution_count": 46,
   "id": "a9e808ef",
   "metadata": {
    "execution": {
     "iopub.execute_input": "2024-09-10T07:26:06.967842Z",
     "iopub.status.busy": "2024-09-10T07:26:06.967426Z",
     "iopub.status.idle": "2024-09-10T07:26:06.989988Z",
     "shell.execute_reply": "2024-09-10T07:26:06.988886Z"
    },
    "papermill": {
     "duration": 0.039882,
     "end_time": "2024-09-10T07:26:06.992853",
     "exception": false,
     "start_time": "2024-09-10T07:26:06.952971",
     "status": "completed"
    },
    "tags": []
   },
   "outputs": [],
   "source": [
    "df_columns = df_test2.columns\n",
    "for i in df_columns:\n",
    "    df_test3 = pd.DataFrame({'PassengerId':test_id,'Survived':df_test2[i]})\n",
    "    df_test3.to_csv('kaggel_titanic_predict_%s.csv' % i,index=False)"
   ]
  },
  {
   "cell_type": "code",
   "execution_count": 47,
   "id": "bc8a0836",
   "metadata": {
    "execution": {
     "iopub.execute_input": "2024-09-10T07:26:07.018197Z",
     "iopub.status.busy": "2024-09-10T07:26:07.017762Z",
     "iopub.status.idle": "2024-09-10T07:26:07.022674Z",
     "shell.execute_reply": "2024-09-10T07:26:07.021601Z"
    },
    "papermill": {
     "duration": 0.020294,
     "end_time": "2024-09-10T07:26:07.024936",
     "exception": false,
     "start_time": "2024-09-10T07:26:07.004642",
     "status": "completed"
    },
    "tags": []
   },
   "outputs": [],
   "source": [
    "# 综上，小结\n",
    "# 由于本次项目中，kaggle上评估标准为 accuracy，Accuracy =(TP+TN)/(TP+TN+FP+FN)；\n",
    "# 即，得分越高，准确率越高；\n",
    "# 得分为1.0，准确率100%，说明该模型预测结果与实际结果全部相符；\n",
    "# 即，本项目最佳模型为，RandomForest，criterion='gini'时；\n",
    "# Kaggle上最终得分，0.78468；\n",
    "# 即，约 80%的结果，均被预测正确，模型较适合；"
   ]
  }
 ],
 "metadata": {
  "kaggle": {
   "accelerator": "none",
   "dataSources": [
    {
     "databundleVersionId": 26502,
     "sourceId": 3136,
     "sourceType": "competition"
    }
   ],
   "dockerImageVersionId": 30746,
   "isGpuEnabled": false,
   "isInternetEnabled": false,
   "language": "python",
   "sourceType": "notebook"
  },
  "kernelspec": {
   "display_name": "Python 3",
   "language": "python",
   "name": "python3"
  },
  "language_info": {
   "codemirror_mode": {
    "name": "ipython",
    "version": 3
   },
   "file_extension": ".py",
   "mimetype": "text/x-python",
   "name": "python",
   "nbconvert_exporter": "python",
   "pygments_lexer": "ipython3",
   "version": "3.10.13"
  },
  "papermill": {
   "default_parameters": {},
   "duration": 18.455593,
   "end_time": "2024-09-10T07:26:07.658562",
   "environment_variables": {},
   "exception": null,
   "input_path": "__notebook__.ipynb",
   "output_path": "__notebook__.ipynb",
   "parameters": {},
   "start_time": "2024-09-10T07:25:49.202969",
   "version": "2.5.0"
  }
 },
 "nbformat": 4,
 "nbformat_minor": 5
}
